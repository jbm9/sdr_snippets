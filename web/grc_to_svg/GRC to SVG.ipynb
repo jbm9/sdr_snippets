{
 "metadata": {
  "name": "",
  "signature": "sha256:6e48d77aadee13057a2bceb3238189d817310ce87503de449e10ac6046be006c"
 },
 "nbformat": 3,
 "nbformat_minor": 0,
 "worksheets": [
  {
   "cells": [
    {
     "cell_type": "heading",
     "level": 2,
     "metadata": {},
     "source": [
      "Parse the GRC into something easier to work with"
     ]
    },
    {
     "cell_type": "markdown",
     "metadata": {},
     "source": [
      "First, let's get the interesting stuff out of the GRC file.  There's a bit of trial-and-error here as we figure out what's what in the file."
     ]
    },
    {
     "cell_type": "code",
     "collapsed": false,
     "input": [
      "from xml.dom import minidom\n",
      "xmldoc = minidom.parse('/home/jbm/src/gnuradio/gr-uhd/examples/grc/uhd_dpsk_mod.grc')\n",
      "\n",
      "import xml.etree.ElementTree as ET  # for generation\n",
      "\n",
      "from IPython.display import SVG, display\n",
      "\n",
      "import math # because everyone needs a little trig in their life\n"
     ],
     "language": "python",
     "metadata": {},
     "outputs": [],
     "prompt_number": 44
    },
    {
     "cell_type": "code",
     "collapsed": false,
     "input": [
      "n = xmldoc.childNodes[0]"
     ],
     "language": "python",
     "metadata": {},
     "outputs": [],
     "prompt_number": 45
    },
    {
     "cell_type": "code",
     "collapsed": false,
     "input": [
      "n = xmldoc.getElementsByTagName(\"flow_graph\")[0]"
     ],
     "language": "python",
     "metadata": {},
     "outputs": [],
     "prompt_number": 46
    },
    {
     "cell_type": "code",
     "collapsed": false,
     "input": [
      "n.getElementsByTagName(\"block\")[0]\n",
      "m = n.getElementsByTagName(\"key\")[0]\n",
      "l = m.childNodes[0]\n",
      "l.data"
     ],
     "language": "python",
     "metadata": {},
     "outputs": [
      {
       "metadata": {},
       "output_type": "pyout",
       "prompt_number": 47,
       "text": [
        "u'options'"
       ]
      }
     ],
     "prompt_number": 47
    },
    {
     "cell_type": "code",
     "collapsed": false,
     "input": [
      "math.atan2(7.0, -94.0)"
     ],
     "language": "python",
     "metadata": {},
     "outputs": [
      {
       "metadata": {},
       "output_type": "pyout",
       "prompt_number": 48,
       "text": [
        "3.0672617664221278"
       ]
      }
     ],
     "prompt_number": 48
    },
    {
     "cell_type": "code",
     "collapsed": false,
     "input": [
      "class GRCVBlock:\n",
      "    def __init__(self, el):\n",
      "        self.params = {}\n",
      "        \n",
      "        self.key = el.getElementsByTagName(\"key\")[0].childNodes[0].data\n",
      "        \n",
      "        for p in el.getElementsByTagName(\"param\"):\n",
      "            k = p.getElementsByTagName(\"key\")[0].childNodes[0].data\n",
      "            try:\n",
      "                v = p.getElementsByTagName(\"value\")[0].childNodes[0].data\n",
      "            except IndexError:\n",
      "                v = \"\"\n",
      "            \n",
      "            self.params[k] = v\n",
      "            \n",
      "        self.connections = [] # List of (direction, my_port, remote_id, remote_port)\n",
      "        \n",
      "        self.port_coords = {}\n",
      "        \n",
      "    def get_id(self):\n",
      "        return self.params[\"id\"]\n",
      "    \n",
      "    def connect(self, direction, my_port, remote_id, remote_port):\n",
      "        candidate_row = (direction, my_port, remote_id, remote_port)\n",
      "        for r in self.connections:\n",
      "            if r == candidate_row:\n",
      "                return\n",
      "            \n",
      "        self.connections.append(candidate_row)\n",
      "        \n",
      "    def ports(self, direction):\n",
      "        retval = set()\n",
      "        \n",
      "        for d, my_port, remote_id, remote_port in self.connections:\n",
      "            if d == direction:\n",
      "                retval.add(my_port)\n",
      "                \n",
      "        return list(retval)\n",
      "    \n",
      "    def coordinates(self):\n",
      "        \"Extract the x,y and rotation for this block\"\n",
      "        raw_xy = self.params[\"_coordinate\"]\n",
      "        x,y = map(float, raw_xy[1:-1].split(\",\"))\n",
      "        theta = float(self.params[\"_rotation\"])\n",
      "        \n",
      "        return (x,y,theta)\n",
      "    \n",
      "    def coordinates_port(self, direction, port):\n",
      "        return self.port_coords[\"%s,%s\" % (direction,port)]\n",
      "\n",
      "    def enabled(self):\n",
      "        return self.params[\"_enabled\"]\n",
      "    \n",
      "    def attach_svg(self, parent):\n",
      "        (x,y,t) = self.coordinates()\n",
      "        \n",
      "        t_rad = t*math.pi/180.0\n",
      "        \n",
      "        header_text = self.get_id()\n",
      "        \n",
      "        if self.key == \"note\":\n",
      "            header_text = \"Note: %s\" % self.params[\"note\"]\n",
      "        \n",
      "        ports_in = self.ports(\"in\")\n",
      "        ports_out = self.ports(\"out\")\n",
      "        \n",
      "        max_ports = max(map(len, [ports_in, ports_out]))\n",
      "        \n",
      "        PORT_WIDTH = 10\n",
      "        PORT_HEIGHT = 20\n",
      "        PORT_GAP = 2\n",
      "        \n",
      "        HEADER_HEIGHT = 22\n",
      "        FOOTER_HEIGHT = HEADER_HEIGHT/2\n",
      "        \n",
      "        h = HEADER_HEIGHT + (PORT_HEIGHT+PORT_GAP)*max_ports + FOOTER_HEIGHT\n",
      "        w = 10 + 7 * len(header_text)\n",
      "        \n",
      "        x_c = x+w/2\n",
      "        y_c = y+h/2\n",
      "        \n",
      "        palette = { \n",
      "            \"options\": (\"grey\", 0.1),\n",
      "            \"variable\": (\"#8888aa\", 0.2),\n",
      "            \"variable_slider\": (\"#8888aa\", 0.3),\n",
      "            \"import\": (\"#aa8888\", 0.3),\n",
      "            \"notebook\": (\"#888888\", 0.5),\n",
      "            \"note\": (\"#ff4444\", 0.4),\n",
      "            \n",
      "            \"_\": (\"#aa8888\", 0.2)\n",
      "        }\n",
      "        \n",
      "        palette_entry = palette[\"_\"]\n",
      "        if self.key in palette:\n",
      "            palette_entry = palette[self.key]\n",
      "        \n",
      "        blk = ET.SubElement(parent,\n",
      "                            \"g\")\n",
      "\n",
      "                \n",
      "        blk.set(\"class\",\"grc_block\")\n",
      "\n",
      "        \n",
      "        if abs(t) > 0.0001:\n",
      "            blk.set(\"transform\", \"rotate(%f %f %f)\" % (t, x_c, y_c))\n",
      "        \n",
      "        #################\n",
      "        # Base rectangle\n",
      "        rect = ET.SubElement(blk,\n",
      "                      \"rect\",\n",
      "                      x=str(x),\n",
      "                      y=str(y),\n",
      "                      height=str(h),\n",
      "                      width=str(w),\n",
      "                      style=\"fill: %s; opacity: %f;\" % palette_entry)\n",
      "        rect.set(\"class\", \"key_%s\" % self.key)\n",
      "        \n",
      "        #################\n",
      "        # Header text\n",
      "        txt = ET.SubElement(blk,\n",
      "                      \"text\",\n",
      "                      x=str(x+15),\n",
      "                      y=str(y+HEADER_HEIGHT-5),\n",
      "                      height=str(h),\n",
      "                      width=str(w),\n",
      "                      style=\"text-weight: bold;\")\n",
      "        \n",
      "        txt.text = header_text\n",
      "        \n",
      "        #############\n",
      "        # I/O Ports\n",
      "        ports_in.sort()\n",
      "        for i,p in enumerate(ports_in):\n",
      "            y_p = y + HEADER_HEIGHT + (i+1)*(PORT_GAP) + i*PORT_HEIGHT\n",
      "            x_p = x - PORT_WIDTH\n",
      "            \n",
      "            rect_p = ET.SubElement(blk,\n",
      "                                   \"rect\",\n",
      "                                   x=str(x_p),\n",
      "                                   y=str(y_p),\n",
      "                                   width=str(PORT_WIDTH),\n",
      "                                   height=str(PORT_HEIGHT),\n",
      "                                   style=\"fill:grey; opacity: 0.5;\")\n",
      "            \n",
      "            x_logical = x_p+PORT_WIDTH/2\n",
      "            x_rel = x_logical-x_c\n",
      "            \n",
      "            y_logical = y_p+PORT_HEIGHT/2\n",
      "            y_rel = y_logical - y_c\n",
      "\n",
      "            l = math.sqrt(x_rel*x_rel + y_rel*y_rel)\n",
      "            \n",
      "            t0 = math.atan2(y_rel, x_rel)\n",
      "            t_act = t0+t_rad\n",
      "            \n",
      "            x_proj = x_c + l * math.cos(t_act)\n",
      "            y_proj = y_c + l * math.sin(t_act)\n",
      "            \n",
      "            self.port_coords[ \"in,%s\" % p ] = (x_proj,y_proj)\n",
      "            # ET.SubElement(parent, \"text\", x=str(x_proj),y=str(y_proj)).text=\"i\"\n",
      "\n",
      "            \n",
      "\n",
      "        ports_out.sort()\n",
      "        for i,p in enumerate(ports_out):\n",
      "            y_p = y + HEADER_HEIGHT + (i+1)*(PORT_GAP) + i*PORT_HEIGHT\n",
      "            x_p = x + w\n",
      "            \n",
      "            rect_p = ET.SubElement(blk,\n",
      "                                   \"rect\",\n",
      "                                   x=str(x_p),\n",
      "                                   y=str(y_p),\n",
      "                                   width=str(PORT_WIDTH),\n",
      "                                   height=str(PORT_HEIGHT),\n",
      "                                   style=\"fill:grey; opacity: 0.5;\")\n",
      "            \n",
      "            x_logical = x_p+PORT_WIDTH/2\n",
      "            x_rel = x_logical-x_c\n",
      "            \n",
      "            y_logical = y_p+PORT_HEIGHT/2\n",
      "            y_rel = y_logical - y_c\n",
      "\n",
      "            l = math.sqrt(x_rel*x_rel + y_rel*y_rel)\n",
      "            t0 = math.atan2(y_rel, x_rel)\n",
      "            t_act = t0+t_rad\n",
      "                    \n",
      "            x_proj = x_c + l * math.cos(t_act)\n",
      "            y_proj = y_c + l * math.sin(t_act)\n",
      "\n",
      "            # ET.SubElement(parent, \"text\", x=str(x_proj),y=str(y_proj)).text=\"o\"\n",
      "            \n",
      "            self.port_coords[ \"out,%s\" % p ] = (x_proj,y_proj)\n",
      "\n",
      "all_blocks = map(GRCVBlock, n.getElementsByTagName(\"block\"))\n",
      "\n",
      "try:\n",
      "    # http://nbviewer.ipython.org/gist/rpmuller/5666810\n",
      "    from IPython.display import SVG\n",
      "    import xml.etree.ElementTree as ET\n",
      "\n",
      "    #fg = GRCVFlowGraph(\"/home/jbm/src/gnuradio-grc-examples/receiver/apt_play.grc\")\n",
      "    fg = GRCVFlowGraph(\"rds_rx_janked.grc\")\n",
      "    display(SVG(fg.svg()))\n",
      "except Exception, e:\n",
      "    print str(e)\n",
      "    print \"You're probably fine; this is premature to run this. It's here to make tweaking easier.\"\n",
      "\n"
     ],
     "language": "python",
     "metadata": {},
     "outputs": [
      {
       "metadata": {},
       "output_type": "display_data",
       "svg": [
        "<svg height=\"1152.000000\" version=\"1.1\" width=\"1315.200000\" xmlns=\"http://www.w3.org/2000/svg\"><g transform=\"translate(20 20)\"><g class=\"grc_block\"><rect class=\"key_digital_mpsk_receiver_cc\" height=\"55\" style=\"fill: #aa8888; opacity: 0.200000;\" width=\"192\" x=\"208.0\" y=\"659.0\"/><text height=\"55\" style=\"text-weight: bold;\" width=\"192\" x=\"223.0\" y=\"676.0\">digital_mpsk_receiver_cc_0</text><rect height=\"20\" style=\"fill:grey; opacity: 0.5;\" width=\"10\" x=\"198.0\" y=\"683.0\"/><rect height=\"20\" style=\"fill:grey; opacity: 0.5;\" width=\"10\" x=\"400.0\" y=\"683.0\"/></g><g class=\"grc_block\"><rect class=\"key_blocks_complex_to_real\" height=\"55\" style=\"fill: #aa8888; opacity: 0.200000;\" width=\"178\" x=\"472.0\" y=\"736.0\"/><text height=\"55\" style=\"text-weight: bold;\" width=\"178\" x=\"487.0\" y=\"753.0\">blocks_complex_to_real_0</text><rect height=\"20\" style=\"fill:grey; opacity: 0.5;\" width=\"10\" x=\"462.0\" y=\"760.0\"/><rect height=\"20\" style=\"fill:grey; opacity: 0.5;\" width=\"10\" x=\"650.0\" y=\"760.0\"/></g><g class=\"grc_block\"><rect class=\"key_variable\" height=\"33\" style=\"fill: #8888aa; opacity: 0.200000;\" width=\"87\" x=\"7.0\" y=\"182.0\"/><text height=\"33\" style=\"text-weight: bold;\" width=\"87\" x=\"22.0\" y=\"199.0\">audio_decim</text></g><g class=\"grc_block\"><rect class=\"key_variable\" height=\"33\" style=\"fill: #8888aa; opacity: 0.200000;\" width=\"122\" x=\"113.0\" y=\"178.0\"/><text height=\"33\" style=\"text-weight: bold;\" width=\"122\" x=\"128.0\" y=\"195.0\">audio_decim_rate</text></g><g class=\"grc_block\"><rect class=\"key_gr_rds_panel\" height=\"55\" style=\"fill: #aa8888; opacity: 0.200000;\" width=\"108\" x=\"872.0\" y=\"960.0\"/><text height=\"55\" style=\"text-weight: bold;\" width=\"108\" x=\"887.0\" y=\"977.0\">gr_rds_panel_0</text><rect height=\"20\" style=\"fill:grey; opacity: 0.5;\" width=\"10\" x=\"862.0\" y=\"984.0\"/></g><g class=\"grc_block\"><rect class=\"key_blocks_keep_one_in_n\" height=\"55\" style=\"fill: #aa8888; opacity: 0.200000;\" width=\"164\" x=\"864.0\" y=\"400.0\"/><text height=\"55\" style=\"text-weight: bold;\" width=\"164\" x=\"879.0\" y=\"417.0\">blocks_keep_one_in_n_1</text><rect height=\"20\" style=\"fill:grey; opacity: 0.5;\" width=\"10\" x=\"854.0\" y=\"424.0\"/><rect height=\"20\" style=\"fill:grey; opacity: 0.5;\" width=\"10\" x=\"1028.0\" y=\"424.0\"/></g><g class=\"grc_block\"><rect class=\"key_blocks_keep_one_in_n\" height=\"55\" style=\"fill: #aa8888; opacity: 0.200000;\" width=\"164\" x=\"904.0\" y=\"747.0\"/><text height=\"55\" style=\"text-weight: bold;\" width=\"164\" x=\"919.0\" y=\"764.0\">blocks_keep_one_in_n_0</text><rect height=\"20\" style=\"fill:grey; opacity: 0.5;\" width=\"10\" x=\"894.0\" y=\"771.0\"/><rect height=\"20\" style=\"fill:grey; opacity: 0.5;\" width=\"10\" x=\"1068.0\" y=\"771.0\"/></g><g class=\"grc_block\"><rect class=\"key_variable\" height=\"33\" style=\"fill: #8888aa; opacity: 0.200000;\" width=\"101\" x=\"116.0\" y=\"106.0\"/><text height=\"33\" style=\"text-weight: bold;\" width=\"101\" x=\"131.0\" y=\"123.0\">baseband_rate</text></g><g class=\"grc_block\"><rect class=\"key_notebook\" height=\"33\" style=\"fill: #888888; opacity: 0.500000;\" width=\"24\" x=\"184.0\" y=\"6.0\"/><text height=\"33\" style=\"text-weight: bold;\" width=\"24\" x=\"199.0\" y=\"23.0\">nb</text></g><g class=\"grc_block\"><rect class=\"key_variable\" height=\"33\" style=\"fill: #8888aa; opacity: 0.200000;\" width=\"87\" x=\"352.0\" y=\"227.0\"/><text height=\"33\" style=\"text-weight: bold;\" width=\"87\" x=\"367.0\" y=\"244.0\">freq_offset</text></g><g class=\"grc_block\" transform=\"rotate(180.000000 403.000000 454.000000)\"><rect class=\"key_root_raised_cosine_filter\" height=\"55\" style=\"fill: #aa8888; opacity: 0.200000;\" width=\"199\" x=\"304.0\" y=\"427.0\"/><text height=\"55\" style=\"text-weight: bold;\" width=\"199\" x=\"319.0\" y=\"444.0\">root_raised_cosine_filter_0</text><rect height=\"20\" style=\"fill:grey; opacity: 0.5;\" width=\"10\" x=\"294.0\" y=\"451.0\"/><rect height=\"20\" style=\"fill:grey; opacity: 0.5;\" width=\"10\" x=\"503.0\" y=\"451.0\"/></g><g class=\"grc_block\" transform=\"rotate(180.000000 732.000000 806.000000)\"><rect class=\"key_digital_diff_decoder_bb\" height=\"55\" style=\"fill: #aa8888; opacity: 0.200000;\" width=\"185\" x=\"640.0\" y=\"779.0\"/><text height=\"55\" style=\"text-weight: bold;\" width=\"185\" x=\"655.0\" y=\"796.0\">digital_diff_decoder_bb_0</text><rect height=\"20\" style=\"fill:grey; opacity: 0.5;\" width=\"10\" x=\"630.0\" y=\"803.0\"/><rect height=\"20\" style=\"fill:grey; opacity: 0.5;\" width=\"10\" x=\"825.0\" y=\"803.0\"/></g><g class=\"grc_block\"><rect class=\"key_freq_xlating_fir_filter_xxx\" height=\"55\" style=\"fill: #aa8888; opacity: 0.200000;\" width=\"213\" x=\"288.0\" y=\"307.0\"/><text height=\"55\" style=\"text-weight: bold;\" width=\"213\" x=\"303.0\" y=\"324.0\">freq_xlating_fir_filter_xxx_0</text><rect height=\"20\" style=\"fill:grey; opacity: 0.5;\" width=\"10\" x=\"278.0\" y=\"331.0\"/><rect height=\"20\" style=\"fill:grey; opacity: 0.5;\" width=\"10\" x=\"501.0\" y=\"331.0\"/></g><g class=\"grc_block\" transform=\"rotate(180.000000 650.000000 470.000000)\"><rect class=\"key_freq_xlating_fir_filter_xxx\" height=\"55\" style=\"fill: #aa8888; opacity: 0.200000;\" width=\"213\" x=\"544.0\" y=\"443.0\"/><text height=\"55\" style=\"text-weight: bold;\" width=\"213\" x=\"559.0\" y=\"460.0\">freq_xlating_fir_filter_xxx_1</text><rect height=\"20\" style=\"fill:grey; opacity: 0.5;\" width=\"10\" x=\"534.0\" y=\"467.0\"/><rect height=\"20\" style=\"fill:grey; opacity: 0.5;\" width=\"10\" x=\"757.0\" y=\"467.0\"/></g><g class=\"grc_block\"><rect class=\"key_analog_quadrature_demod_cf\" height=\"55\" style=\"fill: #aa8888; opacity: 0.200000;\" width=\"206\" x=\"800.0\" y=\"275.0\"/><text height=\"55\" style=\"text-weight: bold;\" width=\"206\" x=\"815.0\" y=\"292.0\">analog_quadrature_demod_cf_0</text><rect height=\"20\" style=\"fill:grey; opacity: 0.5;\" width=\"10\" x=\"790.0\" y=\"299.0\"/><rect height=\"20\" style=\"fill:grey; opacity: 0.5;\" width=\"10\" x=\"1006.0\" y=\"299.0\"/></g><g class=\"grc_block\"><rect class=\"key_variable\" height=\"33\" style=\"fill: #8888aa; opacity: 0.200000;\" width=\"73\" x=\"13.0\" y=\"106.0\"/><text height=\"33\" style=\"text-weight: bold;\" width=\"73\" x=\"28.0\" y=\"123.0\">samp_rate</text></g><g class=\"grc_block\"><rect class=\"key_variable\" height=\"33\" style=\"fill: #8888aa; opacity: 0.200000;\" width=\"66\" x=\"250.0\" y=\"178.0\"/><text height=\"33\" style=\"text-weight: bold;\" width=\"66\" x=\"265.0\" y=\"195.0\">bb_decim</text></g><g class=\"grc_block\"><rect class=\"key_variable_slider\" height=\"33\" style=\"fill: #8888aa; opacity: 0.300000;\" width=\"52\" x=\"1096.0\" y=\"4.0\"/><text height=\"33\" style=\"text-weight: bold;\" width=\"52\" x=\"1111.0\" y=\"21.0\">volume</text></g><g class=\"grc_block\"><rect class=\"key_gr_rds_parser\" height=\"55\" style=\"fill: #aa8888; opacity: 0.200000;\" width=\"115\" x=\"648.0\" y=\"883.0\"/><text height=\"55\" style=\"text-weight: bold;\" width=\"115\" x=\"663.0\" y=\"900.0\">gr_rds_parser_0</text><rect height=\"20\" style=\"fill:grey; opacity: 0.5;\" width=\"10\" x=\"638.0\" y=\"907.0\"/><rect height=\"20\" style=\"fill:grey; opacity: 0.5;\" width=\"10\" x=\"763.0\" y=\"907.0\"/></g><g class=\"grc_block\"><rect class=\"key_variable_slider\" height=\"33\" style=\"fill: #8888aa; opacity: 0.300000;\" width=\"38\" x=\"807.0\" y=\"4.0\"/><text height=\"33\" style=\"text-weight: bold;\" width=\"38\" x=\"822.0\" y=\"21.0\">gain</text></g><g class=\"grc_block\"><rect class=\"key_variable\" height=\"33\" style=\"fill: #8888aa; opacity: 0.200000;\" width=\"73\" x=\"239.0\" y=\"106.0\"/><text height=\"33\" style=\"text-weight: bold;\" width=\"73\" x=\"254.0\" y=\"123.0\">freq_tune</text></g><g class=\"grc_block\"><rect class=\"key_options\" height=\"33\" style=\"fill: grey; opacity: 0.100000;\" width=\"52\" x=\"14.0\" y=\"9.0\"/><text height=\"33\" style=\"text-weight: bold;\" width=\"52\" x=\"29.0\" y=\"26.0\">rds_rx</text></g><g class=\"grc_block\"><rect class=\"key_variable_slider\" height=\"33\" style=\"fill: #8888aa; opacity: 0.300000;\" width=\"38\" x=\"951.0\" y=\"4.0\"/><text height=\"33\" style=\"text-weight: bold;\" width=\"38\" x=\"966.0\" y=\"21.0\">freq</text></g><g class=\"grc_block\"><rect class=\"key_import\" height=\"33\" style=\"fill: #aa8888; opacity: 0.300000;\" width=\"66\" x=\"354.0\" y=\"98.0\"/><text height=\"33\" style=\"text-weight: bold;\" width=\"66\" x=\"369.0\" y=\"115.0\">import_0</text></g><g class=\"grc_block\"><rect class=\"key_variable\" height=\"33\" style=\"fill: #8888aa; opacity: 0.200000;\" width=\"115\" x=\"352.0\" y=\"155.0\"/><text height=\"33\" style=\"text-weight: bold;\" width=\"115\" x=\"367.0\" y=\"172.0\">xlate_bandwidth</text></g><g class=\"grc_block\"><rect class=\"key_variable\" height=\"33\" style=\"fill: #8888aa; opacity: 0.200000;\" width=\"80\" x=\"352.0\" y=\"14.0\"/><text height=\"33\" style=\"text-weight: bold;\" width=\"80\" x=\"367.0\" y=\"31.0\">audio_rate</text></g><g class=\"grc_block\"><rect class=\"key_analog_wfm_rcv\" height=\"55\" style=\"fill: #aa8888; opacity: 0.200000;\" width=\"122\" x=\"568.0\" y=\"323.0\"/><text height=\"55\" style=\"text-weight: bold;\" width=\"122\" x=\"583.0\" y=\"340.0\">analog_wfm_rcv_0</text><rect height=\"20\" style=\"fill:grey; opacity: 0.5;\" width=\"10\" x=\"558.0\" y=\"347.0\"/><rect height=\"20\" style=\"fill:grey; opacity: 0.5;\" width=\"10\" x=\"690.0\" y=\"347.0\"/></g><g class=\"grc_block\"><rect class=\"key_uhd_usrp_source\" height=\"55\" style=\"fill: #aa8888; opacity: 0.200000;\" width=\"129\" x=\"32.0\" y=\"291.0\"/><text height=\"55\" style=\"text-weight: bold;\" width=\"129\" x=\"47.0\" y=\"308.0\">uhd_usrp_source_0</text><rect height=\"20\" style=\"fill:grey; opacity: 0.5;\" width=\"10\" x=\"161.0\" y=\"315.0\"/></g><g class=\"grc_block\"><rect class=\"key_gr_rds_decoder\" height=\"55\" style=\"fill: #aa8888; opacity: 0.200000;\" width=\"122\" x=\"440.0\" y=\"899.0\"/><text height=\"55\" style=\"text-weight: bold;\" width=\"122\" x=\"455.0\" y=\"916.0\">gr_rds_decoder_0</text><rect height=\"20\" style=\"fill:grey; opacity: 0.5;\" width=\"10\" x=\"430.0\" y=\"923.0\"/><rect height=\"20\" style=\"fill:grey; opacity: 0.5;\" width=\"10\" x=\"562.0\" y=\"923.0\"/></g><g class=\"grc_block\"><rect class=\"key_digital_binary_slicer_fb\" height=\"55\" style=\"fill: #aa8888; opacity: 0.200000;\" width=\"192\" x=\"720.0\" y=\"744.0\"/><text height=\"55\" style=\"text-weight: bold;\" width=\"192\" x=\"735.0\" y=\"761.0\">digital_binary_slicer_fb_0</text><rect height=\"20\" style=\"fill:grey; opacity: 0.5;\" width=\"10\" x=\"710.0\" y=\"768.0\"/><rect height=\"20\" style=\"fill:grey; opacity: 0.5;\" width=\"10\" x=\"912.0\" y=\"768.0\"/></g><line stroke=\"#333333\" stroke-width=\"1.5\" x1=\"506.0\" x2=\"563.0\" y1=\"341.0\" y2=\"357.0\"/><line stroke=\"#333333\" stroke-width=\"1.5\" x1=\"695.0\" x2=\"761.0\" y1=\"357.0\" y2=\"463.0\"/><line stroke=\"#333333\" stroke-width=\"1.5\" x1=\"538.0\" x2=\"507.0\" y1=\"463.0\" y2=\"447.0\"/><line stroke=\"#333333\" stroke-width=\"1.5\" x1=\"298.0\" x2=\"203.0\" y1=\"447.0\" y2=\"693.0\"/><line stroke=\"#333333\" stroke-width=\"1.5\" x1=\"405.0\" x2=\"467.0\" y1=\"693.0\" y2=\"770.0\"/><line stroke=\"#333333\" stroke-width=\"1.5\" x1=\"917.0\" x2=\"899.0\" y1=\"778.0\" y2=\"781.0\"/><line stroke=\"#333333\" stroke-width=\"1.5\" x1=\"655.0\" x2=\"715.0\" y1=\"770.0\" y2=\"778.0\"/><line stroke=\"#333333\" stroke-width=\"1.5\" x1=\"1073.0\" x2=\"829.0\" y1=\"781.0\" y2=\"799.0\"/><line stroke=\"#333333\" stroke-width=\"1.5\" x1=\"166.0\" x2=\"283.0\" y1=\"325.0\" y2=\"341.0\"/><line stroke=\"#333333\" stroke-width=\"1.5\" x1=\"1011.0\" x2=\"859.0\" y1=\"309.0\" y2=\"434.0\"/><line stroke=\"#333333\" stroke-width=\"1.5\" x1=\"506.0\" x2=\"795.0\" y1=\"341.0\" y2=\"309.0\"/><line stroke=\"#333333\" stroke-width=\"1.5\" x1=\"1033.0\" x2=\"761.0\" y1=\"434.0\" y2=\"463.0\"/><line stroke=\"#333333\" stroke-width=\"1.5\" x1=\"634.0\" x2=\"435.0\" y1=\"799.0\" y2=\"933.0\"/><line stroke=\"#333333\" stroke-width=\"1.5\" x1=\"768.0\" x2=\"867.0\" y1=\"917.0\" y2=\"994.0\"/><line stroke=\"#333333\" stroke-width=\"1.5\" x1=\"567.0\" x2=\"643.0\" y1=\"933.0\" y2=\"917.0\"/></g></svg>"
       ],
       "text": [
        "<IPython.core.display.SVG at 0x7f5eb6518310>"
       ]
      }
     ],
     "prompt_number": 49
    },
    {
     "cell_type": "code",
     "collapsed": false,
     "input": [
      "[ (b.key, b.get_id(), b.coordinates() ) for b in all_blocks ]"
     ],
     "language": "python",
     "metadata": {},
     "outputs": [
      {
       "metadata": {},
       "output_type": "pyout",
       "prompt_number": 50,
       "text": [
        "[(u'options', u'uhd_dpsk_mod', (-5.0, -2.0, 0.0)),\n",
        " (u'variable', u'samps_per_sym', (743.0, 124.0, 0.0)),\n",
        " (u'variable', u'rolloff', (566.0, 548.0, 0.0)),\n",
        " (u'variable', u'nfilts', (653.0, 548.0, 0.0)),\n",
        " (u'parameter', u'tx_gain', (968.0, 0.0, 0.0)),\n",
        " (u'parameter', u'freq', (634.0, 0.0, 0.0)),\n",
        " (u'parameter', u'samp_rate', (508.0, 0.0, 0.0)),\n",
        " (u'parameter', u'address0', (162.0, 0.0, 0.0)),\n",
        " (u'parameter', u'freq_offset', (789.0, 0.0, 0.0)),\n",
        " (u'parameter', u'rx_gain', (1102.0, 0.0, 0.0)),\n",
        " (u'import', u'import_0', (169.0, 93.0, 0.0)),\n",
        " (u'blocks_multiply_const_vxx',\n",
        "  u'blocks_multiply_const_vxx_0',\n",
        "  (396.0, 161.0, 0.0)),\n",
        " (u'variable_qtgui_range', u'ampl', (916.0, 115.0, 0.0)),\n",
        " (u'parameter', u'address1', (322.0, 0.0, 0.0)),\n",
        " (u'uhd_usrp_sink', u'uhd_usrp_sink_0', (576.0, 131.0, 0.0)),\n",
        " (u'qtgui_const_sink_x', u'qtgui_const_sink_x_0', (1.0, 367.0, 180.0)),\n",
        " (u'uhd_usrp_source', u'uhd_usrp_source_0', (-1.0, 242.0, 0.0)),\n",
        " (u'digital_dxpsk_mod', u'digital_dxpsk_mod_0', (204.0, 138.0, 0.0)),\n",
        " (u'blocks_vector_source_x', u'blocks_vector_source_x_0', (6.0, 142.0, 0.0)),\n",
        " (u'qtgui_time_sink_x', u'qtgui_time_sink_x_0', (294.0, 265.0, 0.0)),\n",
        " (u'variable_qtgui_range', u'tun_freq', (5.0, 545.0, 0.0)),\n",
        " (u'variable_qtgui_range', u'tun_rx_gain', (391.0, 546.0, 0.0)),\n",
        " (u'variable_qtgui_range', u'tun_tx_gain', (277.0, 546.0, 0.0)),\n",
        " (u'variable_qtgui_range', u'rx_freq_off', (130.0, 547.0, 0.0)),\n",
        " (u'digital_dxpsk_demod', u'digital_dxpsk_demod_0', (294.0, 375.0, 0.0)),\n",
        " (u'blocks_unpacked_to_packed_xx',\n",
        "  u'blocks_unpacked_to_packed_xx_0',\n",
        "  (542.0, 420.0, 0.0)),\n",
        " (u'blocks_uchar_to_float', u'blocks_uchar_to_float_0', (747.0, 431.0, 0.0)),\n",
        " (u'qtgui_time_sink_x', u'qtgui_time_sink_x_1', (923.0, 405.0, 0.0)),\n",
        " (u'qtgui_freq_sink_x', u'qtgui_freq_sink_x_0', (610.0, 254.0, 0.0))]"
       ]
      }
     ],
     "prompt_number": 50
    },
    {
     "cell_type": "code",
     "collapsed": false,
     "input": [
      "from collections import defaultdict\n",
      "\n",
      "paramcounts = defaultdict(int)\n",
      "\n",
      "for b in all_blocks:\n",
      "    for k in b.params:\n",
      "        paramcounts[k] += 1\n",
      "        \n",
      "all_params = paramcounts.keys()\n",
      "all_params.sort(key=lambda s: -1*paramcounts[s])\n",
      "\n",
      "for p in all_params[0:7]:\n",
      "    print \"%s  === > %d\"   % (p, paramcounts[p])"
     ],
     "language": "python",
     "metadata": {},
     "outputs": [
      {
       "output_type": "stream",
       "stream": "stdout",
       "text": [
        "_rotation  === > 29\n",
        "_coordinate  === > 29\n",
        "id  === > 29\n",
        "_enabled  === > 29\n",
        "alias  === > 29\n",
        "type  === > 18\n",
        "value  === > 15\n"
       ]
      }
     ],
     "prompt_number": 51
    },
    {
     "cell_type": "code",
     "collapsed": false,
     "input": [
      "class GRCVConnection:\n",
      "    def __init__(self, el):\n",
      "        def gv(x):\n",
      "            try:\n",
      "                return el.getElementsByTagName(x)[0].childNodes[0].data\n",
      "            except IndexError:\n",
      "                return None\n",
      "\n",
      "        self.source = (gv(\"source_block_id\"), gv(\"source_key\"))\n",
      "        self.sink = (gv(\"sink_block_id\"), gv(\"sink_key\"))\n",
      "        \n",
      "\n",
      "all_conns = map(GRCVConnection, n.getElementsByTagName(\"connection\"))\n",
      "\n",
      "len(all_conns)"
     ],
     "language": "python",
     "metadata": {},
     "outputs": [
      {
       "metadata": {},
       "output_type": "pyout",
       "prompt_number": 52,
       "text": [
        "10"
       ]
      }
     ],
     "prompt_number": 52
    },
    {
     "cell_type": "code",
     "collapsed": false,
     "input": [
      "len(\"xlate_bandwidth\")"
     ],
     "language": "python",
     "metadata": {},
     "outputs": [
      {
       "metadata": {},
       "output_type": "pyout",
       "prompt_number": 53,
       "text": [
        "15"
       ]
      }
     ],
     "prompt_number": 53
    },
    {
     "cell_type": "code",
     "collapsed": false,
     "input": [
      "[ (c.source, c.sink) for c in all_conns ]"
     ],
     "language": "python",
     "metadata": {},
     "outputs": [
      {
       "metadata": {},
       "output_type": "pyout",
       "prompt_number": 54,
       "text": [
        "[((u'uhd_usrp_source_0', u'0'), (u'qtgui_const_sink_x_0', u'0')),\n",
        " ((u'uhd_usrp_source_0', u'0'), (u'qtgui_freq_sink_x_0', u'0')),\n",
        " ((u'digital_dxpsk_mod_0', u'0'), (u'blocks_multiply_const_vxx_0', u'0')),\n",
        " ((u'blocks_multiply_const_vxx_0', u'0'), (u'uhd_usrp_sink_0', u'0')),\n",
        " ((u'uhd_usrp_source_0', u'0'), (u'digital_dxpsk_demod_0', u'0')),\n",
        " ((u'uhd_usrp_source_0', u'0'), (u'qtgui_time_sink_x_0', u'0')),\n",
        " ((u'blocks_vector_source_x_0', u'0'), (u'digital_dxpsk_mod_0', u'0')),\n",
        " ((u'digital_dxpsk_demod_0', u'0'), (u'blocks_unpacked_to_packed_xx_0', u'0')),\n",
        " ((u'blocks_unpacked_to_packed_xx_0', u'0'),\n",
        "  (u'blocks_uchar_to_float_0', u'0')),\n",
        " ((u'blocks_uchar_to_float_0', u'0'), (u'qtgui_time_sink_x_1', u'0'))]"
       ]
      }
     ],
     "prompt_number": 54
    },
    {
     "cell_type": "code",
     "collapsed": false,
     "input": [
      "import xml.etree.ElementTree as ET\n",
      "from xml.dom import minidom\n",
      "\n",
      "class GRCVFlowGraph:\n",
      "    def __init__(self, path):\n",
      "        xmldoc = minidom.parse(path)\n",
      "        fg = xmldoc.getElementsByTagName(\"flow_graph\")[0]\n",
      "        # XXX TODO Skip the timestamp\n",
      "        \n",
      "        self.blocks = {}\n",
      "        \n",
      "        \n",
      "        for el in fg.getElementsByTagName(\"block\"):\n",
      "            b = GRCVBlock(el)\n",
      "            \n",
      "            self.blocks[b.get_id()] = b\n",
      "        \n",
      "        self.connections = map(GRCVConnection, \n",
      "                               fg.getElementsByTagName(\"connection\"))\n",
      "        \n",
      "        for c in self.connections:\n",
      "            (src_id, src_port) = c.source\n",
      "            (snk_id, snk_port) = c.sink\n",
      "            \n",
      "            self.blocks[src_id].connect(\"out\", src_port, snk_id, snk_port)\n",
      "            self.blocks[snk_id].connect(\"in\", snk_port, src_id, src_port)\n",
      "        \n",
      "    def bounds(self):        \n",
      "        coords = [ b.coordinates() for b in self.blocks.values() ]\n",
      "        \n",
      "        xmin = min([c[0] for c in coords])\n",
      "        xmax = max([c[0] for c in coords])\n",
      "        ymin = min([c[1] for c in coords])\n",
      "        ymax = max([c[1] for c in coords])\n",
      "        \n",
      "        return ( (xmin,ymin), (xmax,ymax) )\n",
      "    \n",
      "    def svg(self):\n",
      "        bbox = self.bounds()\n",
      "\n",
      "        # Just take the maximum plus fudge factor for now\n",
      "        (width,height) = bbox[1]\n",
      "        width *= 1.20\n",
      "        height *= 1.20\n",
      "\n",
      "        \n",
      "        svg = ET.Element('svg', \n",
      "                         xmlns=\"http://www.w3.org/2000/svg\",\n",
      "                         version=\"1.1\",\n",
      "                         height=\"%f\" % height,\n",
      "                         width=\"%f\" % width)\n",
      " \n",
      "        \n",
      "        defs = ET.SubElement(svg, \"defs\")\n",
      "        arrow = ET.SubElement(defs, \"marker\")\n",
      "        toset = { \n",
      "                    \"id\": \"markerArrow\", \n",
      "                    \"markerWidth\": \"9\",\n",
      "                    \"markerHeight\": \"9\",\n",
      "                    \"refx\": \"2\",\n",
      "                    \"refy\": \"6\",\n",
      "                    \"orient\": \"auto\"\n",
      "                }\n",
      "        \n",
      "        for k,v in toset.iteritems():\n",
      "            arrow.set(k,v)\n",
      "        \n",
      "        ET.SubElement(arrow, \"path\", d=\"M2,2 L2,9 L9,6 L2,2\", style=\"fill: black;\")\n",
      "        \n",
      "        canvas = ET.SubElement(svg, 'g', transform=\"translate(20 20)\")\n",
      "        \n",
      "        for b in self.blocks.values():\n",
      "            b.attach_svg(canvas)\n",
      "            \n",
      "            \n",
      "        for c in self.connections:\n",
      "            (src_id, src_port) = c.source\n",
      "            (snk_id, snk_port) = c.sink\n",
      "\n",
      "            x0,y0 = self.blocks[src_id].coordinates_port(\"out\",src_port)\n",
      "            x1,y1 = self.blocks[snk_id].coordinates_port(\"in\",snk_port)\n",
      "            \n",
      "            line = ET.SubElement(canvas, \n",
      "                                 \"line\",\n",
      "                                 x1=str(x0),\n",
      "                                 y1=str(y0),\n",
      "                                 x2=str(x1),\n",
      "                                 y2=str(y1),\n",
      "                                 stroke=\"#333333\",\n",
      "                                 style=\"marker-end: url(#markerArrow);\")\n",
      "            line.set(\"stroke-width\", \"1.5\")\n",
      "            \n",
      "        return ET.tostring(svg)\n",
      "        "
     ],
     "language": "python",
     "metadata": {},
     "outputs": [],
     "prompt_number": 65
    },
    {
     "cell_type": "code",
     "collapsed": false,
     "input": [
      "fg = GRCVFlowGraph(\"rds_rx_janked.grc\")\n",
      "fg.bounds()\n",
      "fg.svg()[0:100]"
     ],
     "language": "python",
     "metadata": {},
     "outputs": [
      {
       "metadata": {},
       "output_type": "pyout",
       "prompt_number": 66,
       "text": [
        "'<svg height=\"1152.000000\" version=\"1.1\" width=\"1315.200000\" xmlns=\"http://www.w3.org/2000/svg\"><defs'"
       ]
      }
     ],
     "prompt_number": 66
    },
    {
     "cell_type": "heading",
     "level": 2,
     "metadata": {},
     "source": [
      "Now, how to display an SVG in-line?"
     ]
    },
    {
     "cell_type": "code",
     "collapsed": false,
     "input": [
      "# http://nbviewer.ipython.org/gist/rpmuller/5666810\n",
      "from IPython.display import SVG\n",
      "import xml.etree.ElementTree as ET\n",
      "\n",
      "fg = GRCVFlowGraph(\"rds_rx_janked.grc\")\n",
      "\n",
      "SVG(fg.svg())"
     ],
     "language": "python",
     "metadata": {},
     "outputs": [
      {
       "metadata": {},
       "output_type": "pyout",
       "prompt_number": 67,
       "svg": [
        "<svg height=\"1152.000000\" version=\"1.1\" width=\"1315.200000\" xmlns=\"http://www.w3.org/2000/svg\"><defs><marker id=\"markerArrow\" markerHeight=\"9\" markerWidth=\"9\" orient=\"auto\" refx=\"2\" refy=\"6\"><path d=\"M2,2 L2,9 L9,6 L2,2\" style=\"fill: black;\"/></marker></defs><g transform=\"translate(20 20)\"><g class=\"grc_block\"><rect class=\"key_digital_mpsk_receiver_cc\" height=\"55\" style=\"fill: #aa8888; opacity: 0.200000;\" width=\"192\" x=\"208.0\" y=\"659.0\"/><text height=\"55\" style=\"text-weight: bold;\" width=\"192\" x=\"223.0\" y=\"676.0\">digital_mpsk_receiver_cc_0</text><rect height=\"20\" style=\"fill:grey; opacity: 0.5;\" width=\"10\" x=\"198.0\" y=\"683.0\"/><rect height=\"20\" style=\"fill:grey; opacity: 0.5;\" width=\"10\" x=\"400.0\" y=\"683.0\"/></g><g class=\"grc_block\"><rect class=\"key_blocks_complex_to_real\" height=\"55\" style=\"fill: #aa8888; opacity: 0.200000;\" width=\"178\" x=\"472.0\" y=\"736.0\"/><text height=\"55\" style=\"text-weight: bold;\" width=\"178\" x=\"487.0\" y=\"753.0\">blocks_complex_to_real_0</text><rect height=\"20\" style=\"fill:grey; opacity: 0.5;\" width=\"10\" x=\"462.0\" y=\"760.0\"/><rect height=\"20\" style=\"fill:grey; opacity: 0.5;\" width=\"10\" x=\"650.0\" y=\"760.0\"/></g><g class=\"grc_block\"><rect class=\"key_variable\" height=\"33\" style=\"fill: #8888aa; opacity: 0.200000;\" width=\"87\" x=\"7.0\" y=\"182.0\"/><text height=\"33\" style=\"text-weight: bold;\" width=\"87\" x=\"22.0\" y=\"199.0\">audio_decim</text></g><g class=\"grc_block\"><rect class=\"key_variable\" height=\"33\" style=\"fill: #8888aa; opacity: 0.200000;\" width=\"122\" x=\"113.0\" y=\"178.0\"/><text height=\"33\" style=\"text-weight: bold;\" width=\"122\" x=\"128.0\" y=\"195.0\">audio_decim_rate</text></g><g class=\"grc_block\"><rect class=\"key_gr_rds_panel\" height=\"55\" style=\"fill: #aa8888; opacity: 0.200000;\" width=\"108\" x=\"872.0\" y=\"960.0\"/><text height=\"55\" style=\"text-weight: bold;\" width=\"108\" x=\"887.0\" y=\"977.0\">gr_rds_panel_0</text><rect height=\"20\" style=\"fill:grey; opacity: 0.5;\" width=\"10\" x=\"862.0\" y=\"984.0\"/></g><g class=\"grc_block\"><rect class=\"key_blocks_keep_one_in_n\" height=\"55\" style=\"fill: #aa8888; opacity: 0.200000;\" width=\"164\" x=\"864.0\" y=\"400.0\"/><text height=\"55\" style=\"text-weight: bold;\" width=\"164\" x=\"879.0\" y=\"417.0\">blocks_keep_one_in_n_1</text><rect height=\"20\" style=\"fill:grey; opacity: 0.5;\" width=\"10\" x=\"854.0\" y=\"424.0\"/><rect height=\"20\" style=\"fill:grey; opacity: 0.5;\" width=\"10\" x=\"1028.0\" y=\"424.0\"/></g><g class=\"grc_block\"><rect class=\"key_blocks_keep_one_in_n\" height=\"55\" style=\"fill: #aa8888; opacity: 0.200000;\" width=\"164\" x=\"904.0\" y=\"747.0\"/><text height=\"55\" style=\"text-weight: bold;\" width=\"164\" x=\"919.0\" y=\"764.0\">blocks_keep_one_in_n_0</text><rect height=\"20\" style=\"fill:grey; opacity: 0.5;\" width=\"10\" x=\"894.0\" y=\"771.0\"/><rect height=\"20\" style=\"fill:grey; opacity: 0.5;\" width=\"10\" x=\"1068.0\" y=\"771.0\"/></g><g class=\"grc_block\"><rect class=\"key_variable\" height=\"33\" style=\"fill: #8888aa; opacity: 0.200000;\" width=\"101\" x=\"116.0\" y=\"106.0\"/><text height=\"33\" style=\"text-weight: bold;\" width=\"101\" x=\"131.0\" y=\"123.0\">baseband_rate</text></g><g class=\"grc_block\"><rect class=\"key_notebook\" height=\"33\" style=\"fill: #888888; opacity: 0.500000;\" width=\"24\" x=\"184.0\" y=\"6.0\"/><text height=\"33\" style=\"text-weight: bold;\" width=\"24\" x=\"199.0\" y=\"23.0\">nb</text></g><g class=\"grc_block\"><rect class=\"key_variable\" height=\"33\" style=\"fill: #8888aa; opacity: 0.200000;\" width=\"87\" x=\"352.0\" y=\"227.0\"/><text height=\"33\" style=\"text-weight: bold;\" width=\"87\" x=\"367.0\" y=\"244.0\">freq_offset</text></g><g class=\"grc_block\" transform=\"rotate(180.000000 403.000000 454.000000)\"><rect class=\"key_root_raised_cosine_filter\" height=\"55\" style=\"fill: #aa8888; opacity: 0.200000;\" width=\"199\" x=\"304.0\" y=\"427.0\"/><text height=\"55\" style=\"text-weight: bold;\" width=\"199\" x=\"319.0\" y=\"444.0\">root_raised_cosine_filter_0</text><rect height=\"20\" style=\"fill:grey; opacity: 0.5;\" width=\"10\" x=\"294.0\" y=\"451.0\"/><rect height=\"20\" style=\"fill:grey; opacity: 0.5;\" width=\"10\" x=\"503.0\" y=\"451.0\"/></g><g class=\"grc_block\" transform=\"rotate(180.000000 732.000000 806.000000)\"><rect class=\"key_digital_diff_decoder_bb\" height=\"55\" style=\"fill: #aa8888; opacity: 0.200000;\" width=\"185\" x=\"640.0\" y=\"779.0\"/><text height=\"55\" style=\"text-weight: bold;\" width=\"185\" x=\"655.0\" y=\"796.0\">digital_diff_decoder_bb_0</text><rect height=\"20\" style=\"fill:grey; opacity: 0.5;\" width=\"10\" x=\"630.0\" y=\"803.0\"/><rect height=\"20\" style=\"fill:grey; opacity: 0.5;\" width=\"10\" x=\"825.0\" y=\"803.0\"/></g><g class=\"grc_block\"><rect class=\"key_freq_xlating_fir_filter_xxx\" height=\"55\" style=\"fill: #aa8888; opacity: 0.200000;\" width=\"213\" x=\"288.0\" y=\"307.0\"/><text height=\"55\" style=\"text-weight: bold;\" width=\"213\" x=\"303.0\" y=\"324.0\">freq_xlating_fir_filter_xxx_0</text><rect height=\"20\" style=\"fill:grey; opacity: 0.5;\" width=\"10\" x=\"278.0\" y=\"331.0\"/><rect height=\"20\" style=\"fill:grey; opacity: 0.5;\" width=\"10\" x=\"501.0\" y=\"331.0\"/></g><g class=\"grc_block\" transform=\"rotate(180.000000 650.000000 470.000000)\"><rect class=\"key_freq_xlating_fir_filter_xxx\" height=\"55\" style=\"fill: #aa8888; opacity: 0.200000;\" width=\"213\" x=\"544.0\" y=\"443.0\"/><text height=\"55\" style=\"text-weight: bold;\" width=\"213\" x=\"559.0\" y=\"460.0\">freq_xlating_fir_filter_xxx_1</text><rect height=\"20\" style=\"fill:grey; opacity: 0.5;\" width=\"10\" x=\"534.0\" y=\"467.0\"/><rect height=\"20\" style=\"fill:grey; opacity: 0.5;\" width=\"10\" x=\"757.0\" y=\"467.0\"/></g><g class=\"grc_block\"><rect class=\"key_analog_quadrature_demod_cf\" height=\"55\" style=\"fill: #aa8888; opacity: 0.200000;\" width=\"206\" x=\"800.0\" y=\"275.0\"/><text height=\"55\" style=\"text-weight: bold;\" width=\"206\" x=\"815.0\" y=\"292.0\">analog_quadrature_demod_cf_0</text><rect height=\"20\" style=\"fill:grey; opacity: 0.5;\" width=\"10\" x=\"790.0\" y=\"299.0\"/><rect height=\"20\" style=\"fill:grey; opacity: 0.5;\" width=\"10\" x=\"1006.0\" y=\"299.0\"/></g><g class=\"grc_block\"><rect class=\"key_variable\" height=\"33\" style=\"fill: #8888aa; opacity: 0.200000;\" width=\"73\" x=\"13.0\" y=\"106.0\"/><text height=\"33\" style=\"text-weight: bold;\" width=\"73\" x=\"28.0\" y=\"123.0\">samp_rate</text></g><g class=\"grc_block\"><rect class=\"key_variable\" height=\"33\" style=\"fill: #8888aa; opacity: 0.200000;\" width=\"66\" x=\"250.0\" y=\"178.0\"/><text height=\"33\" style=\"text-weight: bold;\" width=\"66\" x=\"265.0\" y=\"195.0\">bb_decim</text></g><g class=\"grc_block\"><rect class=\"key_variable_slider\" height=\"33\" style=\"fill: #8888aa; opacity: 0.300000;\" width=\"52\" x=\"1096.0\" y=\"4.0\"/><text height=\"33\" style=\"text-weight: bold;\" width=\"52\" x=\"1111.0\" y=\"21.0\">volume</text></g><g class=\"grc_block\"><rect class=\"key_gr_rds_parser\" height=\"55\" style=\"fill: #aa8888; opacity: 0.200000;\" width=\"115\" x=\"648.0\" y=\"883.0\"/><text height=\"55\" style=\"text-weight: bold;\" width=\"115\" x=\"663.0\" y=\"900.0\">gr_rds_parser_0</text><rect height=\"20\" style=\"fill:grey; opacity: 0.5;\" width=\"10\" x=\"638.0\" y=\"907.0\"/><rect height=\"20\" style=\"fill:grey; opacity: 0.5;\" width=\"10\" x=\"763.0\" y=\"907.0\"/></g><g class=\"grc_block\"><rect class=\"key_variable_slider\" height=\"33\" style=\"fill: #8888aa; opacity: 0.300000;\" width=\"38\" x=\"807.0\" y=\"4.0\"/><text height=\"33\" style=\"text-weight: bold;\" width=\"38\" x=\"822.0\" y=\"21.0\">gain</text></g><g class=\"grc_block\"><rect class=\"key_variable\" height=\"33\" style=\"fill: #8888aa; opacity: 0.200000;\" width=\"73\" x=\"239.0\" y=\"106.0\"/><text height=\"33\" style=\"text-weight: bold;\" width=\"73\" x=\"254.0\" y=\"123.0\">freq_tune</text></g><g class=\"grc_block\"><rect class=\"key_options\" height=\"33\" style=\"fill: grey; opacity: 0.100000;\" width=\"52\" x=\"14.0\" y=\"9.0\"/><text height=\"33\" style=\"text-weight: bold;\" width=\"52\" x=\"29.0\" y=\"26.0\">rds_rx</text></g><g class=\"grc_block\"><rect class=\"key_variable_slider\" height=\"33\" style=\"fill: #8888aa; opacity: 0.300000;\" width=\"38\" x=\"951.0\" y=\"4.0\"/><text height=\"33\" style=\"text-weight: bold;\" width=\"38\" x=\"966.0\" y=\"21.0\">freq</text></g><g class=\"grc_block\"><rect class=\"key_import\" height=\"33\" style=\"fill: #aa8888; opacity: 0.300000;\" width=\"66\" x=\"354.0\" y=\"98.0\"/><text height=\"33\" style=\"text-weight: bold;\" width=\"66\" x=\"369.0\" y=\"115.0\">import_0</text></g><g class=\"grc_block\"><rect class=\"key_variable\" height=\"33\" style=\"fill: #8888aa; opacity: 0.200000;\" width=\"115\" x=\"352.0\" y=\"155.0\"/><text height=\"33\" style=\"text-weight: bold;\" width=\"115\" x=\"367.0\" y=\"172.0\">xlate_bandwidth</text></g><g class=\"grc_block\"><rect class=\"key_variable\" height=\"33\" style=\"fill: #8888aa; opacity: 0.200000;\" width=\"80\" x=\"352.0\" y=\"14.0\"/><text height=\"33\" style=\"text-weight: bold;\" width=\"80\" x=\"367.0\" y=\"31.0\">audio_rate</text></g><g class=\"grc_block\"><rect class=\"key_analog_wfm_rcv\" height=\"55\" style=\"fill: #aa8888; opacity: 0.200000;\" width=\"122\" x=\"568.0\" y=\"323.0\"/><text height=\"55\" style=\"text-weight: bold;\" width=\"122\" x=\"583.0\" y=\"340.0\">analog_wfm_rcv_0</text><rect height=\"20\" style=\"fill:grey; opacity: 0.5;\" width=\"10\" x=\"558.0\" y=\"347.0\"/><rect height=\"20\" style=\"fill:grey; opacity: 0.5;\" width=\"10\" x=\"690.0\" y=\"347.0\"/></g><g class=\"grc_block\"><rect class=\"key_uhd_usrp_source\" height=\"55\" style=\"fill: #aa8888; opacity: 0.200000;\" width=\"129\" x=\"32.0\" y=\"291.0\"/><text height=\"55\" style=\"text-weight: bold;\" width=\"129\" x=\"47.0\" y=\"308.0\">uhd_usrp_source_0</text><rect height=\"20\" style=\"fill:grey; opacity: 0.5;\" width=\"10\" x=\"161.0\" y=\"315.0\"/></g><g class=\"grc_block\"><rect class=\"key_gr_rds_decoder\" height=\"55\" style=\"fill: #aa8888; opacity: 0.200000;\" width=\"122\" x=\"440.0\" y=\"899.0\"/><text height=\"55\" style=\"text-weight: bold;\" width=\"122\" x=\"455.0\" y=\"916.0\">gr_rds_decoder_0</text><rect height=\"20\" style=\"fill:grey; opacity: 0.5;\" width=\"10\" x=\"430.0\" y=\"923.0\"/><rect height=\"20\" style=\"fill:grey; opacity: 0.5;\" width=\"10\" x=\"562.0\" y=\"923.0\"/></g><g class=\"grc_block\"><rect class=\"key_digital_binary_slicer_fb\" height=\"55\" style=\"fill: #aa8888; opacity: 0.200000;\" width=\"192\" x=\"720.0\" y=\"744.0\"/><text height=\"55\" style=\"text-weight: bold;\" width=\"192\" x=\"735.0\" y=\"761.0\">digital_binary_slicer_fb_0</text><rect height=\"20\" style=\"fill:grey; opacity: 0.5;\" width=\"10\" x=\"710.0\" y=\"768.0\"/><rect height=\"20\" style=\"fill:grey; opacity: 0.5;\" width=\"10\" x=\"912.0\" y=\"768.0\"/></g><line stroke=\"#333333\" stroke-width=\"1.5\" style=\"marker-end: url(#markerArrow);\" x1=\"506.0\" x2=\"563.0\" y1=\"341.0\" y2=\"357.0\"/><line stroke=\"#333333\" stroke-width=\"1.5\" style=\"marker-end: url(#markerArrow);\" x1=\"695.0\" x2=\"761.0\" y1=\"357.0\" y2=\"463.0\"/><line stroke=\"#333333\" stroke-width=\"1.5\" style=\"marker-end: url(#markerArrow);\" x1=\"538.0\" x2=\"507.0\" y1=\"463.0\" y2=\"447.0\"/><line stroke=\"#333333\" stroke-width=\"1.5\" style=\"marker-end: url(#markerArrow);\" x1=\"298.0\" x2=\"203.0\" y1=\"447.0\" y2=\"693.0\"/><line stroke=\"#333333\" stroke-width=\"1.5\" style=\"marker-end: url(#markerArrow);\" x1=\"405.0\" x2=\"467.0\" y1=\"693.0\" y2=\"770.0\"/><line stroke=\"#333333\" stroke-width=\"1.5\" style=\"marker-end: url(#markerArrow);\" x1=\"917.0\" x2=\"899.0\" y1=\"778.0\" y2=\"781.0\"/><line stroke=\"#333333\" stroke-width=\"1.5\" style=\"marker-end: url(#markerArrow);\" x1=\"655.0\" x2=\"715.0\" y1=\"770.0\" y2=\"778.0\"/><line stroke=\"#333333\" stroke-width=\"1.5\" style=\"marker-end: url(#markerArrow);\" x1=\"1073.0\" x2=\"829.0\" y1=\"781.0\" y2=\"799.0\"/><line stroke=\"#333333\" stroke-width=\"1.5\" style=\"marker-end: url(#markerArrow);\" x1=\"166.0\" x2=\"283.0\" y1=\"325.0\" y2=\"341.0\"/><line stroke=\"#333333\" stroke-width=\"1.5\" style=\"marker-end: url(#markerArrow);\" x1=\"1011.0\" x2=\"859.0\" y1=\"309.0\" y2=\"434.0\"/><line stroke=\"#333333\" stroke-width=\"1.5\" style=\"marker-end: url(#markerArrow);\" x1=\"506.0\" x2=\"795.0\" y1=\"341.0\" y2=\"309.0\"/><line stroke=\"#333333\" stroke-width=\"1.5\" style=\"marker-end: url(#markerArrow);\" x1=\"1033.0\" x2=\"761.0\" y1=\"434.0\" y2=\"463.0\"/><line stroke=\"#333333\" stroke-width=\"1.5\" style=\"marker-end: url(#markerArrow);\" x1=\"634.0\" x2=\"435.0\" y1=\"799.0\" y2=\"933.0\"/><line stroke=\"#333333\" stroke-width=\"1.5\" style=\"marker-end: url(#markerArrow);\" x1=\"768.0\" x2=\"867.0\" y1=\"917.0\" y2=\"994.0\"/><line stroke=\"#333333\" stroke-width=\"1.5\" style=\"marker-end: url(#markerArrow);\" x1=\"567.0\" x2=\"643.0\" y1=\"933.0\" y2=\"917.0\"/></g></svg>"
       ],
       "text": [
        "<IPython.core.display.SVG at 0x7f5ec4139790>"
       ]
      }
     ],
     "prompt_number": 67
    },
    {
     "cell_type": "code",
     "collapsed": false,
     "input": [
      "fg = GRCVFlowGraph(\"/home/jbm/src/misc/gr-rds/apps/rds_rx.grc\")\n",
      "SVG(fg.svg())"
     ],
     "language": "python",
     "metadata": {},
     "outputs": [
      {
       "metadata": {},
       "output_type": "pyout",
       "prompt_number": 68,
       "svg": [
        "<svg height=\"1833.600000\" version=\"1.1\" width=\"1718.400000\" xmlns=\"http://www.w3.org/2000/svg\"><defs><marker id=\"markerArrow\" markerHeight=\"9\" markerWidth=\"9\" orient=\"auto\" refx=\"2\" refy=\"6\"><path d=\"M2,2 L2,9 L9,6 L2,2\" style=\"fill: black;\"/></marker></defs><g transform=\"translate(20 20)\"><g class=\"grc_block\"><rect class=\"key_rtlsdr_source\" height=\"55\" style=\"fill: #aa8888; opacity: 0.200000;\" width=\"115\" x=\"32.0\" y=\"355.0\"/><text height=\"55\" style=\"text-weight: bold;\" width=\"115\" x=\"47.0\" y=\"372.0\">rtlsdr_source_0</text><rect height=\"20\" style=\"fill:grey; opacity: 0.5;\" width=\"10\" x=\"147.0\" y=\"379.0\"/></g><g class=\"grc_block\"><rect class=\"key_digital_mpsk_receiver_cc\" height=\"55\" style=\"fill: #aa8888; opacity: 0.200000;\" width=\"192\" x=\"675.0\" y=\"1048.0\"/><text height=\"55\" style=\"text-weight: bold;\" width=\"192\" x=\"690.0\" y=\"1065.0\">digital_mpsk_receiver_cc_0</text><rect height=\"20\" style=\"fill:grey; opacity: 0.5;\" width=\"10\" x=\"665.0\" y=\"1072.0\"/><rect height=\"20\" style=\"fill:grey; opacity: 0.5;\" width=\"10\" x=\"867.0\" y=\"1072.0\"/></g><g class=\"grc_block\" transform=\"rotate(270.000000 953.000000 1252.000000)\"><rect class=\"key_blocks_complex_to_real\" height=\"55\" style=\"fill: #aa8888; opacity: 0.200000;\" width=\"178\" x=\"864.0\" y=\"1225.0\"/><text height=\"55\" style=\"text-weight: bold;\" width=\"178\" x=\"879.0\" y=\"1242.0\">blocks_complex_to_real_0</text><rect height=\"20\" style=\"fill:grey; opacity: 0.5;\" width=\"10\" x=\"854.0\" y=\"1249.0\"/><rect height=\"20\" style=\"fill:grey; opacity: 0.5;\" width=\"10\" x=\"1042.0\" y=\"1249.0\"/></g><g class=\"grc_block\"><rect class=\"key_variable\" height=\"33\" style=\"fill: #8888aa; opacity: 0.200000;\" width=\"73\" x=\"239.0\" y=\"106.0\"/><text height=\"33\" style=\"text-weight: bold;\" width=\"73\" x=\"254.0\" y=\"123.0\">freq_tune</text></g><g class=\"grc_block\"><rect class=\"key_uhd_usrp_source\" height=\"55\" style=\"fill: #aa8888; opacity: 0.200000;\" width=\"129\" x=\"24.0\" y=\"251.0\"/><text height=\"55\" style=\"text-weight: bold;\" width=\"129\" x=\"39.0\" y=\"268.0\">uhd_usrp_source_0</text><rect height=\"20\" style=\"fill:grey; opacity: 0.5;\" width=\"10\" x=\"153.0\" y=\"275.0\"/></g><g class=\"grc_block\"><rect class=\"key_variable\" height=\"33\" style=\"fill: #8888aa; opacity: 0.200000;\" width=\"122\" x=\"113.0\" y=\"178.0\"/><text height=\"33\" style=\"text-weight: bold;\" width=\"122\" x=\"128.0\" y=\"195.0\">audio_decim_rate</text></g><g class=\"grc_block\"><rect class=\"key_gr_rds_panel\" height=\"55\" style=\"fill: #aa8888; opacity: 0.200000;\" width=\"108\" x=\"1112.0\" y=\"1528.0\"/><text height=\"55\" style=\"text-weight: bold;\" width=\"108\" x=\"1127.0\" y=\"1545.0\">gr_rds_panel_0</text><rect height=\"20\" style=\"fill:grey; opacity: 0.5;\" width=\"10\" x=\"1102.0\" y=\"1552.0\"/></g><g class=\"grc_block\" transform=\"rotate(180.000000 820.000000 490.000000)\"><rect class=\"key_wxgui_fftsink2\" height=\"55\" style=\"fill: #aa8888; opacity: 0.200000;\" width=\"150\" x=\"745.0\" y=\"463.0\"/><text height=\"55\" style=\"text-weight: bold;\" width=\"150\" x=\"760.0\" y=\"480.0\">wxgui_fftsink2_0_0_0</text><rect height=\"20\" style=\"fill:grey; opacity: 0.5;\" width=\"10\" x=\"735.0\" y=\"487.0\"/></g><g class=\"grc_block\"><rect class=\"key_blocks_keep_one_in_n\" height=\"55\" style=\"fill: #aa8888; opacity: 0.200000;\" width=\"164\" x=\"752.0\" y=\"307.0\"/><text height=\"55\" style=\"text-weight: bold;\" width=\"164\" x=\"767.0\" y=\"324.0\">blocks_keep_one_in_n_1</text><rect height=\"20\" style=\"fill:grey; opacity: 0.5;\" width=\"10\" x=\"742.0\" y=\"331.0\"/><rect height=\"20\" style=\"fill:grey; opacity: 0.5;\" width=\"10\" x=\"916.0\" y=\"331.0\"/></g><g class=\"grc_block\"><rect class=\"key_blocks_keep_one_in_n\" height=\"55\" style=\"fill: #aa8888; opacity: 0.200000;\" width=\"164\" x=\"1128.0\" y=\"1371.0\"/><text height=\"55\" style=\"text-weight: bold;\" width=\"164\" x=\"1143.0\" y=\"1388.0\">blocks_keep_one_in_n_0</text><rect height=\"20\" style=\"fill:grey; opacity: 0.5;\" width=\"10\" x=\"1118.0\" y=\"1395.0\"/><rect height=\"20\" style=\"fill:grey; opacity: 0.5;\" width=\"10\" x=\"1292.0\" y=\"1395.0\"/></g><g class=\"grc_block\" transform=\"rotate(270.000000 1344.000000 419.000000)\"><rect class=\"key_fir_filter_xxx\" height=\"55\" style=\"fill: #aa8888; opacity: 0.200000;\" width=\"122\" x=\"1283.0\" y=\"392.0\"/><text height=\"55\" style=\"text-weight: bold;\" width=\"122\" x=\"1298.0\" y=\"409.0\">fir_filter_xxx_3</text><rect height=\"20\" style=\"fill:grey; opacity: 0.5;\" width=\"10\" x=\"1273.0\" y=\"416.0\"/><rect height=\"20\" style=\"fill:grey; opacity: 0.5;\" width=\"10\" x=\"1405.0\" y=\"416.0\"/></g><g class=\"grc_block\"><rect class=\"key_wxgui_waterfallsink2\" height=\"55\" style=\"fill: #aa8888; opacity: 0.200000;\" width=\"164\" x=\"948.0\" y=\"148.0\"/><text height=\"55\" style=\"text-weight: bold;\" width=\"164\" x=\"963.0\" y=\"165.0\">wxgui_waterfallsink2_0</text><rect height=\"20\" style=\"fill:grey; opacity: 0.5;\" width=\"10\" x=\"938.0\" y=\"172.0\"/></g><g class=\"grc_block\"><rect class=\"key_wxgui_fftsink2\" height=\"55\" style=\"fill: #aa8888; opacity: 0.200000;\" width=\"136\" x=\"1356.0\" y=\"74.0\"/><text height=\"55\" style=\"text-weight: bold;\" width=\"136\" x=\"1371.0\" y=\"91.0\">wxgui_fftsink2_0_0</text><rect height=\"20\" style=\"fill:grey; opacity: 0.5;\" width=\"10\" x=\"1346.0\" y=\"98.0\"/></g><g class=\"grc_block\" transform=\"rotate(180.000000 1152.000000 370.000000)\"><rect class=\"key_note\" height=\"33\" style=\"fill: #ff4444; opacity: 0.400000;\" width=\"87\" x=\"1109.0\" y=\"354.0\"/><text height=\"33\" style=\"text-weight: bold;\" width=\"87\" x=\"1124.0\" y=\"371.0\">Note: Pilot</text></g><g class=\"grc_block\"><rect class=\"key_note\" height=\"33\" style=\"fill: #ff4444; opacity: 0.400000;\" width=\"73\" x=\"1357.0\" y=\"360.0\"/><text height=\"33\" style=\"text-weight: bold;\" width=\"73\" x=\"1372.0\" y=\"377.0\">Note: L-R</text></g><g class=\"grc_block\"><rect class=\"key_variable\" height=\"33\" style=\"fill: #8888aa; opacity: 0.200000;\" width=\"101\" x=\"116.0\" y=\"106.0\"/><text height=\"33\" style=\"text-weight: bold;\" width=\"101\" x=\"131.0\" y=\"123.0\">baseband_rate</text></g><g class=\"grc_block\" transform=\"rotate(180.000000 378.000000 1026.000000)\"><rect class=\"key_fir_filter_xxx\" height=\"55\" style=\"fill: #aa8888; opacity: 0.200000;\" width=\"122\" x=\"317.0\" y=\"999.0\"/><text height=\"55\" style=\"text-weight: bold;\" width=\"122\" x=\"332.0\" y=\"1016.0\">fir_filter_xxx_5</text><rect height=\"20\" style=\"fill:grey; opacity: 0.5;\" width=\"10\" x=\"307.0\" y=\"1023.0\"/><rect height=\"20\" style=\"fill:grey; opacity: 0.5;\" width=\"10\" x=\"439.0\" y=\"1023.0\"/></g><g class=\"grc_block\"><rect class=\"key_notebook\" height=\"33\" style=\"fill: #888888; opacity: 0.500000;\" width=\"24\" x=\"184.0\" y=\"6.0\"/><text height=\"33\" style=\"text-weight: bold;\" width=\"24\" x=\"199.0\" y=\"23.0\">nb</text></g><g class=\"grc_block\"><rect class=\"key_variable\" height=\"33\" style=\"fill: #8888aa; opacity: 0.200000;\" width=\"87\" x=\"352.0\" y=\"227.0\"/><text height=\"33\" style=\"text-weight: bold;\" width=\"87\" x=\"367.0\" y=\"244.0\">freq_offset</text></g><g class=\"grc_block\" transform=\"rotate(270.000000 1016.000000 517.000000)\"><rect class=\"key_fir_filter_xxx\" height=\"55\" style=\"fill: #aa8888; opacity: 0.200000;\" width=\"122\" x=\"955.0\" y=\"490.0\"/><text height=\"55\" style=\"text-weight: bold;\" width=\"122\" x=\"970.0\" y=\"507.0\">fir_filter_xxx_1</text><rect height=\"20\" style=\"fill:grey; opacity: 0.5;\" width=\"10\" x=\"945.0\" y=\"514.0\"/><rect height=\"20\" style=\"fill:grey; opacity: 0.5;\" width=\"10\" x=\"1077.0\" y=\"514.0\"/></g><g class=\"grc_block\" transform=\"rotate(270.000000 632.000000 795.000000)\"><rect class=\"key_root_raised_cosine_filter\" height=\"55\" style=\"fill: #aa8888; opacity: 0.200000;\" width=\"199\" x=\"533.0\" y=\"768.0\"/><text height=\"55\" style=\"text-weight: bold;\" width=\"199\" x=\"548.0\" y=\"785.0\">root_raised_cosine_filter_0</text><rect height=\"20\" style=\"fill:grey; opacity: 0.5;\" width=\"10\" x=\"523.0\" y=\"792.0\"/><rect height=\"20\" style=\"fill:grey; opacity: 0.5;\" width=\"10\" x=\"732.0\" y=\"792.0\"/></g><g class=\"grc_block\" transform=\"rotate(270.000000 1336.000000 967.000000)\"><rect class=\"key_blocks_multiply_xx\" height=\"77\" style=\"fill: #aa8888; opacity: 0.200000;\" width=\"150\" x=\"1261.0\" y=\"929.0\"/><text height=\"77\" style=\"text-weight: bold;\" width=\"150\" x=\"1276.0\" y=\"946.0\">blocks_multiply_xx_0</text><rect height=\"20\" style=\"fill:grey; opacity: 0.5;\" width=\"10\" x=\"1251.0\" y=\"953.0\"/><rect height=\"20\" style=\"fill:grey; opacity: 0.5;\" width=\"10\" x=\"1251.0\" y=\"975.0\"/><rect height=\"20\" style=\"fill:grey; opacity: 0.5;\" width=\"10\" x=\"1411.0\" y=\"953.0\"/></g><g class=\"grc_block\"><rect class=\"key_import\" height=\"33\" style=\"fill: #aa8888; opacity: 0.300000;\" width=\"66\" x=\"354.0\" y=\"98.0\"/><text height=\"33\" style=\"text-weight: bold;\" width=\"66\" x=\"369.0\" y=\"115.0\">import_0</text></g><g class=\"grc_block\" transform=\"rotate(180.000000 1244.000000 1470.000000)\"><rect class=\"key_digital_diff_decoder_bb\" height=\"55\" style=\"fill: #aa8888; opacity: 0.200000;\" width=\"185\" x=\"1152.0\" y=\"1443.0\"/><text height=\"55\" style=\"text-weight: bold;\" width=\"185\" x=\"1167.0\" y=\"1460.0\">digital_diff_decoder_bb_0</text><rect height=\"20\" style=\"fill:grey; opacity: 0.5;\" width=\"10\" x=\"1142.0\" y=\"1467.0\"/><rect height=\"20\" style=\"fill:grey; opacity: 0.5;\" width=\"10\" x=\"1337.0\" y=\"1467.0\"/></g><g class=\"grc_block\"><rect class=\"key_wxgui_scopesink2\" height=\"55\" style=\"fill: #aa8888; opacity: 0.200000;\" width=\"136\" x=\"1197.0\" y=\"700.0\"/><text height=\"55\" style=\"text-weight: bold;\" width=\"136\" x=\"1212.0\" y=\"717.0\">wxgui_scopesink2_0</text><rect height=\"20\" style=\"fill:grey; opacity: 0.5;\" width=\"10\" x=\"1187.0\" y=\"724.0\"/></g><g class=\"grc_block\"><rect class=\"key_freq_xlating_fir_filter_xxx\" height=\"55\" style=\"fill: #aa8888; opacity: 0.200000;\" width=\"213\" x=\"279.0\" y=\"296.0\"/><text height=\"55\" style=\"text-weight: bold;\" width=\"213\" x=\"294.0\" y=\"313.0\">freq_xlating_fir_filter_xxx_0</text><rect height=\"20\" style=\"fill:grey; opacity: 0.5;\" width=\"10\" x=\"269.0\" y=\"320.0\"/><rect height=\"20\" style=\"fill:grey; opacity: 0.5;\" width=\"10\" x=\"492.0\" y=\"320.0\"/></g><g class=\"grc_block\"><rect class=\"key_variable\" height=\"33\" style=\"fill: #8888aa; opacity: 0.200000;\" width=\"87\" x=\"7.0\" y=\"182.0\"/><text height=\"33\" style=\"text-weight: bold;\" width=\"87\" x=\"22.0\" y=\"199.0\">audio_decim</text></g><g class=\"grc_block\"><rect class=\"key_analog_quadrature_demod_cf\" height=\"55\" style=\"fill: #aa8888; opacity: 0.200000;\" width=\"206\" x=\"584.0\" y=\"251.0\"/><text height=\"55\" style=\"text-weight: bold;\" width=\"206\" x=\"599.0\" y=\"268.0\">analog_quadrature_demod_cf_0</text><rect height=\"20\" style=\"fill:grey; opacity: 0.5;\" width=\"10\" x=\"574.0\" y=\"275.0\"/><rect height=\"20\" style=\"fill:grey; opacity: 0.5;\" width=\"10\" x=\"790.0\" y=\"275.0\"/></g><g class=\"grc_block\" transform=\"rotate(180.000000 936.000000 454.000000)\"><rect class=\"key_note\" height=\"33\" style=\"fill: #ff4444; opacity: 0.400000;\" width=\"73\" x=\"900.0\" y=\"438.0\"/><text height=\"33\" style=\"text-weight: bold;\" width=\"73\" x=\"915.0\" y=\"455.0\">Note: L+R</text></g><g class=\"grc_block\"><rect class=\"key_audio_sink\" height=\"77\" style=\"fill: #aa8888; opacity: 0.200000;\" width=\"94\" x=\"763.0\" y=\"1447.0\"/><text height=\"77\" style=\"text-weight: bold;\" width=\"94\" x=\"778.0\" y=\"1464.0\">audio_sink_0</text><rect height=\"20\" style=\"fill:grey; opacity: 0.5;\" width=\"10\" x=\"753.0\" y=\"1471.0\"/><rect height=\"20\" style=\"fill:grey; opacity: 0.5;\" width=\"10\" x=\"753.0\" y=\"1493.0\"/></g><g class=\"grc_block\"><rect class=\"key_variable\" height=\"33\" style=\"fill: #8888aa; opacity: 0.200000;\" width=\"73\" x=\"13.0\" y=\"106.0\"/><text height=\"33\" style=\"text-weight: bold;\" width=\"73\" x=\"28.0\" y=\"123.0\">samp_rate</text></g><g class=\"grc_block\"><rect class=\"key_variable\" height=\"33\" style=\"fill: #8888aa; opacity: 0.200000;\" width=\"66\" x=\"250.0\" y=\"178.0\"/><text height=\"33\" style=\"text-weight: bold;\" width=\"66\" x=\"265.0\" y=\"195.0\">bb_decim</text></g><g class=\"grc_block\"><rect class=\"key_wxgui_fftsink2\" height=\"55\" style=\"fill: #aa8888; opacity: 0.200000;\" width=\"122\" x=\"544.0\" y=\"10.0\"/><text height=\"55\" style=\"text-weight: bold;\" width=\"122\" x=\"559.0\" y=\"27.0\">wxgui_fftsink2_0</text><rect height=\"20\" style=\"fill:grey; opacity: 0.5;\" width=\"10\" x=\"534.0\" y=\"34.0\"/></g><g class=\"grc_block\" transform=\"rotate(180.000000 1045.000000 1462.000000)\"><rect class=\"key_gr_rds_decoder\" height=\"55\" style=\"fill: #aa8888; opacity: 0.200000;\" width=\"122\" x=\"984.0\" y=\"1435.0\"/><text height=\"55\" style=\"text-weight: bold;\" width=\"122\" x=\"999.0\" y=\"1452.0\">gr_rds_decoder_0</text><rect height=\"20\" style=\"fill:grey; opacity: 0.5;\" width=\"10\" x=\"974.0\" y=\"1459.0\"/><rect height=\"20\" style=\"fill:grey; opacity: 0.5;\" width=\"10\" x=\"1106.0\" y=\"1459.0\"/></g><g class=\"grc_block\" transform=\"rotate(270.000000 163.000000 1409.000000)\"><rect class=\"key_analog_fm_deemph\" height=\"55\" style=\"fill: #aa8888; opacity: 0.200000;\" width=\"150\" x=\"88.0\" y=\"1382.0\"/><text height=\"55\" style=\"text-weight: bold;\" width=\"150\" x=\"103.0\" y=\"1399.0\">analog_fm_deemph_0_0</text><rect height=\"20\" style=\"fill:grey; opacity: 0.5;\" width=\"10\" x=\"78.0\" y=\"1406.0\"/><rect height=\"20\" style=\"fill:grey; opacity: 0.5;\" width=\"10\" x=\"238.0\" y=\"1406.0\"/></g><g class=\"grc_block\"><rect class=\"key_gr_rds_parser\" height=\"55\" style=\"fill: #aa8888; opacity: 0.200000;\" width=\"115\" x=\"952.0\" y=\"1515.0\"/><text height=\"55\" style=\"text-weight: bold;\" width=\"115\" x=\"967.0\" y=\"1532.0\">gr_rds_parser_0</text><rect height=\"20\" style=\"fill:grey; opacity: 0.5;\" width=\"10\" x=\"942.0\" y=\"1539.0\"/><rect height=\"20\" style=\"fill:grey; opacity: 0.5;\" width=\"10\" x=\"1067.0\" y=\"1539.0\"/></g><g class=\"grc_block\" transform=\"rotate(270.000000 223.000000 1136.000000)\"><rect class=\"key_blocks_add_xx\" height=\"77\" style=\"fill: #aa8888; opacity: 0.200000;\" width=\"115\" x=\"166.0\" y=\"1098.0\"/><text height=\"77\" style=\"text-weight: bold;\" width=\"115\" x=\"181.0\" y=\"1115.0\">blocks_add_xx_0</text><rect height=\"20\" style=\"fill:grey; opacity: 0.5;\" width=\"10\" x=\"156.0\" y=\"1122.0\"/><rect height=\"20\" style=\"fill:grey; opacity: 0.5;\" width=\"10\" x=\"156.0\" y=\"1144.0\"/><rect height=\"20\" style=\"fill:grey; opacity: 0.5;\" width=\"10\" x=\"281.0\" y=\"1122.0\"/></g><g class=\"grc_block\"><rect class=\"key_blocks_multiply_const_vxx\" height=\"55\" style=\"fill: #aa8888; opacity: 0.200000;\" width=\"199\" x=\"251.0\" y=\"1405.0\"/><text height=\"55\" style=\"text-weight: bold;\" width=\"199\" x=\"266.0\" y=\"1422.0\">blocks_multiply_const_vxx_0</text><rect height=\"20\" style=\"fill:grey; opacity: 0.5;\" width=\"10\" x=\"241.0\" y=\"1429.0\"/><rect height=\"20\" style=\"fill:grey; opacity: 0.5;\" width=\"10\" x=\"450.0\" y=\"1429.0\"/></g><g class=\"grc_block\"><rect class=\"key_rational_resampler_xxx\" height=\"55\" style=\"fill: #aa8888; opacity: 0.200000;\" width=\"192\" x=\"439.0\" y=\"1485.0\"/><text height=\"55\" style=\"text-weight: bold;\" width=\"192\" x=\"454.0\" y=\"1502.0\">rational_resampler_xxx_0_0</text><rect height=\"20\" style=\"fill:grey; opacity: 0.5;\" width=\"10\" x=\"429.0\" y=\"1509.0\"/><rect height=\"20\" style=\"fill:grey; opacity: 0.5;\" width=\"10\" x=\"631.0\" y=\"1509.0\"/></g><g class=\"grc_block\" transform=\"rotate(180.000000 457.000000 635.000000)\"><rect class=\"key_wxgui_fftsink2\" height=\"55\" style=\"fill: #aa8888; opacity: 0.200000;\" width=\"192\" x=\"361.0\" y=\"608.0\"/><text height=\"55\" style=\"text-weight: bold;\" width=\"192\" x=\"376.0\" y=\"625.0\">wxgui_fftsink2_0_0_0_1_0_1</text><rect height=\"20\" style=\"fill:grey; opacity: 0.5;\" width=\"10\" x=\"351.0\" y=\"632.0\"/></g><g class=\"grc_block\"><rect class=\"key_wxgui_fftsink2\" height=\"55\" style=\"fill: #aa8888; opacity: 0.200000;\" width=\"192\" x=\"1348.0\" y=\"1123.0\"/><text height=\"55\" style=\"text-weight: bold;\" width=\"192\" x=\"1363.0\" y=\"1140.0\">wxgui_fftsink2_0_0_0_1_0_0</text><rect height=\"20\" style=\"fill:grey; opacity: 0.5;\" width=\"10\" x=\"1338.0\" y=\"1147.0\"/></g><g class=\"grc_block\"><rect class=\"key_options\" height=\"33\" style=\"fill: grey; opacity: 0.100000;\" width=\"52\" x=\"14.0\" y=\"9.0\"/><text height=\"33\" style=\"text-weight: bold;\" width=\"52\" x=\"29.0\" y=\"26.0\">rds_rx</text></g><g class=\"grc_block\"><rect class=\"key_variable_slider\" height=\"33\" style=\"fill: #8888aa; opacity: 0.300000;\" width=\"38\" x=\"951.0\" y=\"4.0\"/><text height=\"33\" style=\"text-weight: bold;\" width=\"38\" x=\"966.0\" y=\"21.0\">freq</text></g><g class=\"grc_block\"><rect class=\"key_variable_slider\" height=\"33\" style=\"fill: #8888aa; opacity: 0.300000;\" width=\"38\" x=\"807.0\" y=\"4.0\"/><text height=\"33\" style=\"text-weight: bold;\" width=\"38\" x=\"822.0\" y=\"21.0\">gain</text></g><g class=\"grc_block\" transform=\"rotate(270.000000 253.000000 1276.000000)\"><rect class=\"key_analog_fm_deemph\" height=\"55\" style=\"fill: #aa8888; opacity: 0.200000;\" width=\"164\" x=\"171.0\" y=\"1249.0\"/><text height=\"55\" style=\"text-weight: bold;\" width=\"164\" x=\"186.0\" y=\"1266.0\">analog_fm_deemph_0_0_0</text><rect height=\"20\" style=\"fill:grey; opacity: 0.5;\" width=\"10\" x=\"161.0\" y=\"1273.0\"/><rect height=\"20\" style=\"fill:grey; opacity: 0.5;\" width=\"10\" x=\"335.0\" y=\"1273.0\"/></g><g class=\"grc_block\"><rect class=\"key_variable_slider\" height=\"33\" style=\"fill: #8888aa; opacity: 0.300000;\" width=\"52\" x=\"1096.0\" y=\"4.0\"/><text height=\"33\" style=\"text-weight: bold;\" width=\"52\" x=\"1111.0\" y=\"21.0\">volume</text></g><g class=\"grc_block\" transform=\"rotate(180.000000 1223.000000 592.000000)\"><rect class=\"key_blocks_multiply_xx\" height=\"77\" style=\"fill: #aa8888; opacity: 0.200000;\" width=\"150\" x=\"1148.0\" y=\"554.0\"/><text height=\"77\" style=\"text-weight: bold;\" width=\"150\" x=\"1163.0\" y=\"571.0\">blocks_multiply_xx_1</text><rect height=\"20\" style=\"fill:grey; opacity: 0.5;\" width=\"10\" x=\"1138.0\" y=\"578.0\"/><rect height=\"20\" style=\"fill:grey; opacity: 0.5;\" width=\"10\" x=\"1138.0\" y=\"600.0\"/><rect height=\"20\" style=\"fill:grey; opacity: 0.5;\" width=\"10\" x=\"1298.0\" y=\"578.0\"/></g><g class=\"grc_block\" transform=\"rotate(180.000000 506.000000 522.000000)\"><rect class=\"key_note\" height=\"33\" style=\"fill: #ff4444; opacity: 0.400000;\" width=\"73\" x=\"470.0\" y=\"506.0\"/><text height=\"33\" style=\"text-weight: bold;\" width=\"73\" x=\"485.0\" y=\"523.0\">Note: RDS</text></g><g class=\"grc_block\" transform=\"rotate(180.000000 1126.000000 431.000000)\"><rect class=\"key_fir_filter_xxx\" height=\"55\" style=\"fill: #aa8888; opacity: 0.200000;\" width=\"122\" x=\"1065.0\" y=\"404.0\"/><text height=\"55\" style=\"text-weight: bold;\" width=\"122\" x=\"1080.0\" y=\"421.0\">fir_filter_xxx_2</text><rect height=\"20\" style=\"fill:grey; opacity: 0.5;\" width=\"10\" x=\"1055.0\" y=\"428.0\"/><rect height=\"20\" style=\"fill:grey; opacity: 0.5;\" width=\"10\" x=\"1187.0\" y=\"428.0\"/></g><g class=\"grc_block\"><rect class=\"key_wxgui_scopesink2\" height=\"55\" style=\"fill: #aa8888; opacity: 0.200000;\" width=\"136\" x=\"946.0\" y=\"1072.0\"/><text height=\"55\" style=\"text-weight: bold;\" width=\"136\" x=\"961.0\" y=\"1089.0\">wxgui_scopesink2_1</text><rect height=\"20\" style=\"fill:grey; opacity: 0.5;\" width=\"10\" x=\"936.0\" y=\"1096.0\"/></g><g class=\"grc_block\"><rect class=\"key_variable\" height=\"33\" style=\"fill: #8888aa; opacity: 0.200000;\" width=\"80\" x=\"352.0\" y=\"14.0\"/><text height=\"33\" style=\"text-weight: bold;\" width=\"80\" x=\"367.0\" y=\"31.0\">audio_rate</text></g><g class=\"grc_block\" transform=\"rotate(270.000000 655.000000 520.000000)\"><rect class=\"key_freq_xlating_fir_filter_xxx\" height=\"55\" style=\"fill: #aa8888; opacity: 0.200000;\" width=\"213\" x=\"549.0\" y=\"493.0\"/><text height=\"55\" style=\"text-weight: bold;\" width=\"213\" x=\"564.0\" y=\"510.0\">freq_xlating_fir_filter_xxx_1</text><rect height=\"20\" style=\"fill:grey; opacity: 0.5;\" width=\"10\" x=\"539.0\" y=\"517.0\"/><rect height=\"20\" style=\"fill:grey; opacity: 0.5;\" width=\"10\" x=\"762.0\" y=\"517.0\"/></g><g class=\"grc_block\" transform=\"rotate(270.000000 140.000000 1137.000000)\"><rect class=\"key_blocks_sub_xx\" height=\"77\" style=\"fill: #aa8888; opacity: 0.200000;\" width=\"115\" x=\"83.0\" y=\"1099.0\"/><text height=\"77\" style=\"text-weight: bold;\" width=\"115\" x=\"98.0\" y=\"1116.0\">blocks_sub_xx_0</text><rect height=\"20\" style=\"fill:grey; opacity: 0.5;\" width=\"10\" x=\"73.0\" y=\"1123.0\"/><rect height=\"20\" style=\"fill:grey; opacity: 0.5;\" width=\"10\" x=\"73.0\" y=\"1145.0\"/><rect height=\"20\" style=\"fill:grey; opacity: 0.5;\" width=\"10\" x=\"198.0\" y=\"1123.0\"/></g><g class=\"grc_block\"><rect class=\"key_wxgui_fftsink2\" height=\"55\" style=\"fill: #aa8888; opacity: 0.200000;\" width=\"164\" x=\"1432.0\" y=\"480.0\"/><text height=\"55\" style=\"text-weight: bold;\" width=\"164\" x=\"1447.0\" y=\"497.0\">wxgui_fftsink2_0_0_0_1</text><rect height=\"20\" style=\"fill:grey; opacity: 0.5;\" width=\"10\" x=\"1422.0\" y=\"504.0\"/></g><g class=\"grc_block\"><rect class=\"key_analog_wfm_rcv\" height=\"55\" style=\"fill: #aa8888; opacity: 0.200000;\" width=\"122\" x=\"536.0\" y=\"347.0\"/><text height=\"55\" style=\"text-weight: bold;\" width=\"122\" x=\"551.0\" y=\"364.0\">analog_wfm_rcv_0</text><rect height=\"20\" style=\"fill:grey; opacity: 0.5;\" width=\"10\" x=\"526.0\" y=\"371.0\"/><rect height=\"20\" style=\"fill:grey; opacity: 0.5;\" width=\"10\" x=\"658.0\" y=\"371.0\"/></g><g class=\"grc_block\"><rect class=\"key_rational_resampler_xxx\" height=\"55\" style=\"fill: #aa8888; opacity: 0.200000;\" width=\"178\" x=\"438.0\" y=\"1381.0\"/><text height=\"55\" style=\"text-weight: bold;\" width=\"178\" x=\"453.0\" y=\"1398.0\">rational_resampler_xxx_0</text><rect height=\"20\" style=\"fill:grey; opacity: 0.5;\" width=\"10\" x=\"428.0\" y=\"1405.0\"/><rect height=\"20\" style=\"fill:grey; opacity: 0.5;\" width=\"10\" x=\"616.0\" y=\"1405.0\"/></g><g class=\"grc_block\"><rect class=\"key_variable\" height=\"33\" style=\"fill: #8888aa; opacity: 0.200000;\" width=\"115\" x=\"352.0\" y=\"155.0\"/><text height=\"33\" style=\"text-weight: bold;\" width=\"115\" x=\"367.0\" y=\"172.0\">xlate_bandwidth</text></g><g class=\"grc_block\"><rect class=\"key_digital_binary_slicer_fb\" height=\"55\" style=\"fill: #aa8888; opacity: 0.200000;\" width=\"192\" x=\"968.0\" y=\"1376.0\"/><text height=\"55\" style=\"text-weight: bold;\" width=\"192\" x=\"983.0\" y=\"1393.0\">digital_binary_slicer_fb_0</text><rect height=\"20\" style=\"fill:grey; opacity: 0.5;\" width=\"10\" x=\"958.0\" y=\"1400.0\"/><rect height=\"20\" style=\"fill:grey; opacity: 0.5;\" width=\"10\" x=\"1160.0\" y=\"1400.0\"/></g><g class=\"grc_block\"><rect class=\"key_blocks_multiply_const_vxx\" height=\"55\" style=\"fill: #aa8888; opacity: 0.200000;\" width=\"213\" x=\"254.0\" y=\"1509.0\"/><text height=\"55\" style=\"text-weight: bold;\" width=\"213\" x=\"269.0\" y=\"1526.0\">blocks_multiply_const_vxx_0_0</text><rect height=\"20\" style=\"fill:grey; opacity: 0.5;\" width=\"10\" x=\"244.0\" y=\"1533.0\"/><rect height=\"20\" style=\"fill:grey; opacity: 0.5;\" width=\"10\" x=\"467.0\" y=\"1533.0\"/></g><g class=\"grc_block\"><rect class=\"key_analog_pll_refout_cc\" height=\"55\" style=\"fill: #aa8888; opacity: 0.200000;\" width=\"164\" x=\"1082.0\" y=\"470.0\"/><text height=\"55\" style=\"text-weight: bold;\" width=\"164\" x=\"1097.0\" y=\"487.0\">analog_pll_refout_cc_0</text><rect height=\"20\" style=\"fill:grey; opacity: 0.5;\" width=\"10\" x=\"1072.0\" y=\"494.0\"/><rect height=\"20\" style=\"fill:grey; opacity: 0.5;\" width=\"10\" x=\"1246.0\" y=\"494.0\"/></g><g class=\"grc_block\" transform=\"rotate(270.000000 1185.000000 667.000000)\"><rect class=\"key_blocks_complex_to_imag\" height=\"55\" style=\"fill: #aa8888; opacity: 0.200000;\" width=\"178\" x=\"1096.0\" y=\"640.0\"/><text height=\"55\" style=\"text-weight: bold;\" width=\"178\" x=\"1111.0\" y=\"657.0\">blocks_complex_to_imag_0</text><rect height=\"20\" style=\"fill:grey; opacity: 0.5;\" width=\"10\" x=\"1086.0\" y=\"664.0\"/><rect height=\"20\" style=\"fill:grey; opacity: 0.5;\" width=\"10\" x=\"1274.0\" y=\"664.0\"/></g><line stroke=\"#333333\" stroke-width=\"1.5\" style=\"marker-end: url(#markerArrow);\" x1=\"1023.0\" x2=\"900.0\" y1=\"451.0\" y2=\"483.0\"/><line stroke=\"#333333\" stroke-width=\"1.5\" style=\"marker-end: url(#markerArrow);\" x1=\"1023.0\" x2=\"219.0\" y1=\"451.0\" y2=\"1198.0\"/><line stroke=\"#333333\" stroke-width=\"1.5\" style=\"marker-end: url(#markerArrow);\" x1=\"1351.0\" x2=\"1427.0\" y1=\"353.0\" y2=\"514.0\"/><line stroke=\"#333333\" stroke-width=\"1.5\" style=\"marker-end: url(#markerArrow);\" x1=\"1023.0\" x2=\"136.0\" y1=\"451.0\" y2=\"1199.0\"/><line stroke=\"#333333\" stroke-width=\"1.5\" style=\"marker-end: url(#markerArrow);\" x1=\"1332.0\" x2=\"444.0\" y1=\"887.0\" y2=\"1019.0\"/><line stroke=\"#333333\" stroke-width=\"1.5\" style=\"marker-end: url(#markerArrow);\" x1=\"260.0\" x2=\"246.0\" y1=\"1189.0\" y2=\"1439.0\"/><line stroke=\"#333333\" stroke-width=\"1.5\" style=\"marker-end: url(#markerArrow);\" x1=\"219.0\" x2=\"260.0\" y1=\"1073.0\" y2=\"1363.0\"/><line stroke=\"#333333\" stroke-width=\"1.5\" style=\"marker-end: url(#markerArrow);\" x1=\"136.0\" x2=\"170.0\" y1=\"1074.0\" y2=\"1489.0\"/><line stroke=\"#333333\" stroke-width=\"1.5\" style=\"marker-end: url(#markerArrow);\" x1=\"636.0\" x2=\"758.0\" y1=\"1519.0\" y2=\"1503.0\"/><line stroke=\"#333333\" stroke-width=\"1.5\" style=\"marker-end: url(#markerArrow);\" x1=\"1332.0\" x2=\"1343.0\" y1=\"887.0\" y2=\"1157.0\"/><line stroke=\"#333333\" stroke-width=\"1.5\" style=\"marker-end: url(#markerArrow);\" x1=\"312.0\" x2=\"241.0\" y1=\"1019.0\" y2=\"1198.0\"/><line stroke=\"#333333\" stroke-width=\"1.5\" style=\"marker-end: url(#markerArrow);\" x1=\"312.0\" x2=\"158.0\" y1=\"1019.0\" y2=\"1199.0\"/><line stroke=\"#333333\" stroke-width=\"1.5\" style=\"marker-end: url(#markerArrow);\" x1=\"1351.0\" x2=\"1332.0\" y1=\"353.0\" y2=\"1047.0\"/><line stroke=\"#333333\" stroke-width=\"1.5\" style=\"marker-end: url(#markerArrow);\" x1=\"621.0\" x2=\"758.0\" y1=\"1415.0\" y2=\"1481.0\"/><line stroke=\"#333333\" stroke-width=\"1.5\" style=\"marker-end: url(#markerArrow);\" x1=\"455.0\" x2=\"433.0\" y1=\"1439.0\" y2=\"1415.0\"/><line stroke=\"#333333\" stroke-width=\"1.5\" style=\"marker-end: url(#markerArrow);\" x1=\"170.0\" x2=\"249.0\" y1=\"1329.0\" y2=\"1543.0\"/><line stroke=\"#333333\" stroke-width=\"1.5\" style=\"marker-end: url(#markerArrow);\" x1=\"472.0\" x2=\"434.0\" y1=\"1543.0\" y2=\"1519.0\"/><line stroke=\"#333333\" stroke-width=\"1.5\" style=\"marker-end: url(#markerArrow);\" x1=\"497.0\" x2=\"539.0\" y1=\"330.0\" y2=\"44.0\"/><line stroke=\"#333333\" stroke-width=\"1.5\" style=\"marker-end: url(#markerArrow);\" x1=\"497.0\" x2=\"531.0\" y1=\"330.0\" y2=\"381.0\"/><line stroke=\"#333333\" stroke-width=\"1.5\" style=\"marker-end: url(#markerArrow);\" x1=\"663.0\" x2=\"1023.0\" y1=\"381.0\" y2=\"583.0\"/><line stroke=\"#333333\" stroke-width=\"1.5\" style=\"marker-end: url(#markerArrow);\" x1=\"663.0\" x2=\"943.0\" y1=\"381.0\" y2=\"182.0\"/><line stroke=\"#333333\" stroke-width=\"1.5\" style=\"marker-end: url(#markerArrow);\" x1=\"663.0\" x2=\"1351.0\" y1=\"381.0\" y2=\"108.0\"/><line stroke=\"#333333\" stroke-width=\"1.5\" style=\"marker-end: url(#markerArrow);\" x1=\"663.0\" x2=\"1351.0\" y1=\"381.0\" y2=\"485.0\"/><line stroke=\"#333333\" stroke-width=\"1.5\" style=\"marker-end: url(#markerArrow);\" x1=\"663.0\" x2=\"1192.0\" y1=\"381.0\" y2=\"424.0\"/><line stroke=\"#333333\" stroke-width=\"1.5\" style=\"marker-end: url(#markerArrow);\" x1=\"1060.0\" x2=\"1077.0\" y1=\"424.0\" y2=\"504.0\"/><line stroke=\"#333333\" stroke-width=\"1.5\" style=\"marker-end: url(#markerArrow);\" x1=\"1251.0\" x2=\"1303.0\" y1=\"504.0\" y2=\"574.0\"/><line stroke=\"#333333\" stroke-width=\"1.5\" style=\"marker-end: url(#markerArrow);\" x1=\"1251.0\" x2=\"1303.0\" y1=\"504.0\" y2=\"596.0\"/><line stroke=\"#333333\" stroke-width=\"1.5\" style=\"marker-end: url(#markerArrow);\" x1=\"1143.0\" x2=\"1192.0\" y1=\"596.0\" y2=\"761.0\"/><line stroke=\"#333333\" stroke-width=\"1.5\" style=\"marker-end: url(#markerArrow);\" x1=\"1192.0\" x2=\"1192.0\" y1=\"573.0\" y2=\"734.0\"/><line stroke=\"#333333\" stroke-width=\"1.5\" style=\"marker-end: url(#markerArrow);\" x1=\"1192.0\" x2=\"1354.0\" y1=\"573.0\" y2=\"1047.0\"/><line stroke=\"#333333\" stroke-width=\"1.5\" style=\"marker-end: url(#markerArrow);\" x1=\"663.0\" x2=\"662.0\" y1=\"381.0\" y2=\"631.0\"/><line stroke=\"#333333\" stroke-width=\"1.5\" style=\"marker-end: url(#markerArrow);\" x1=\"662.0\" x2=\"558.0\" y1=\"408.0\" y2=\"628.0\"/><line stroke=\"#333333\" stroke-width=\"1.5\" style=\"marker-end: url(#markerArrow);\" x1=\"872.0\" x2=\"941.0\" y1=\"1082.0\" y2=\"1106.0\"/><line stroke=\"#333333\" stroke-width=\"1.5\" style=\"marker-end: url(#markerArrow);\" x1=\"662.0\" x2=\"639.0\" y1=\"408.0\" y2=\"899.0\"/><line stroke=\"#333333\" stroke-width=\"1.5\" style=\"marker-end: url(#markerArrow);\" x1=\"639.0\" x2=\"670.0\" y1=\"690.0\" y2=\"1082.0\"/><line stroke=\"#333333\" stroke-width=\"1.5\" style=\"marker-end: url(#markerArrow);\" x1=\"872.0\" x2=\"960.0\" y1=\"1082.0\" y2=\"1346.0\"/><line stroke=\"#333333\" stroke-width=\"1.5\" style=\"marker-end: url(#markerArrow);\" x1=\"1165.0\" x2=\"1123.0\" y1=\"1410.0\" y2=\"1405.0\"/><line stroke=\"#333333\" stroke-width=\"1.5\" style=\"marker-end: url(#markerArrow);\" x1=\"960.0\" x2=\"963.0\" y1=\"1158.0\" y2=\"1410.0\"/><line stroke=\"#333333\" stroke-width=\"1.5\" style=\"marker-end: url(#markerArrow);\" x1=\"1297.0\" x2=\"1341.0\" y1=\"1405.0\" y2=\"1463.0\"/><line stroke=\"#333333\" stroke-width=\"1.5\" style=\"marker-end: url(#markerArrow);\" x1=\"158.0\" x2=\"274.0\" y1=\"285.0\" y2=\"330.0\"/><line stroke=\"#333333\" stroke-width=\"1.5\" style=\"marker-end: url(#markerArrow);\" x1=\"152.0\" x2=\"274.0\" y1=\"389.0\" y2=\"330.0\"/><line stroke=\"#333333\" stroke-width=\"1.5\" style=\"marker-end: url(#markerArrow);\" x1=\"1146.0\" x2=\"1111.0\" y1=\"1463.0\" y2=\"1455.0\"/><line stroke=\"#333333\" stroke-width=\"1.5\" style=\"marker-end: url(#markerArrow);\" x1=\"979.0\" x2=\"947.0\" y1=\"1455.0\" y2=\"1549.0\"/><line stroke=\"#333333\" stroke-width=\"1.5\" style=\"marker-end: url(#markerArrow);\" x1=\"1072.0\" x2=\"1107.0\" y1=\"1549.0\" y2=\"1562.0\"/><line stroke=\"#333333\" stroke-width=\"1.5\" style=\"marker-end: url(#markerArrow);\" x1=\"497.0\" x2=\"579.0\" y1=\"330.0\" y2=\"285.0\"/><line stroke=\"#333333\" stroke-width=\"1.5\" style=\"marker-end: url(#markerArrow);\" x1=\"795.0\" x2=\"747.0\" y1=\"285.0\" y2=\"341.0\"/><line stroke=\"#333333\" stroke-width=\"1.5\" style=\"marker-end: url(#markerArrow);\" x1=\"921.0\" x2=\"662.0\" y1=\"341.0\" y2=\"631.0\"/><line stroke=\"#333333\" stroke-width=\"1.5\" style=\"marker-end: url(#markerArrow);\" x1=\"921.0\" x2=\"943.0\" y1=\"341.0\" y2=\"182.0\"/><line stroke=\"#333333\" stroke-width=\"1.5\" style=\"marker-end: url(#markerArrow);\" x1=\"921.0\" x2=\"1023.0\" y1=\"341.0\" y2=\"583.0\"/><line stroke=\"#333333\" stroke-width=\"1.5\" style=\"marker-end: url(#markerArrow);\" x1=\"921.0\" x2=\"1351.0\" y1=\"341.0\" y2=\"485.0\"/><line stroke=\"#333333\" stroke-width=\"1.5\" style=\"marker-end: url(#markerArrow);\" x1=\"921.0\" x2=\"1192.0\" y1=\"341.0\" y2=\"424.0\"/></g></svg>"
       ],
       "text": [
        "<IPython.core.display.SVG at 0x7f5ecd5f68d0>"
       ]
      }
     ],
     "prompt_number": 68
    },
    {
     "cell_type": "code",
     "collapsed": false,
     "input": [],
     "language": "python",
     "metadata": {},
     "outputs": []
    }
   ],
   "metadata": {}
  }
 ]
}